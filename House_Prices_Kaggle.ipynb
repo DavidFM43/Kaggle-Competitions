{
  "nbformat": 4,
  "nbformat_minor": 0,
  "metadata": {
    "colab": {
      "name": "House_Prices_Kaggle.ipynb",
      "provenance": [],
      "collapsed_sections": []
    },
    "kernelspec": {
      "name": "python3",
      "display_name": "Python 3"
    },
    "language_info": {
      "name": "python"
    }
  },
  "cells": [
    {
      "cell_type": "code",
      "metadata": {
        "id": "gjLeX0xxADVw"
      },
      "source": [
        "import tensorflow as tf\n",
        "import os\n",
        "import pandas as pd\n",
        "import numpy as np\n",
        "import matplotlib.pyplot as plt\n",
        "from sklearn.model_selection import train_test_split\n"
      ],
      "execution_count": null,
      "outputs": []
    },
    {
      "cell_type": "code",
      "metadata": {
        "colab": {
          "base_uri": "https://localhost:8080/"
        },
        "id": "LCDDBw5h_oUP",
        "outputId": "82fcaef8-811e-4800-ce5f-c09a26d77dcc"
      },
      "source": [
        "os.environ['KAGGLE_USERNAME'] = \"davidfmora\"\n",
        "os.environ['KAGGLE_KEY'] = \"204c0028a80148851fdab46383061779\"\n",
        "\n",
        "!kaggle competitions download -c house-prices-advanced-regression-techniques # descarga de los datos\n"
      ],
      "execution_count": null,
      "outputs": [
        {
          "output_type": "stream",
          "name": "stdout",
          "text": [
            "Warning: Looks like you're using an outdated API Version, please consider updating (server 1.5.12 / client 1.5.4)\n",
            "sample_submission.csv: Skipping, found more recently modified local copy (use --force to force download)\n",
            "test.csv: Skipping, found more recently modified local copy (use --force to force download)\n",
            "train.csv: Skipping, found more recently modified local copy (use --force to force download)\n",
            "data_description.txt: Skipping, found more recently modified local copy (use --force to force download)\n"
          ]
        }
      ]
    },
    {
      "cell_type": "code",
      "metadata": {
        "id": "4MywITR0EJpb",
        "colab": {
          "base_uri": "https://localhost:8080/"
        },
        "outputId": "952e3bbd-3d97-49c3-b438-2738e5edb14a"
      },
      "source": [
        "# nombres de los csv\n",
        "test_csv = \"test.csv\"\n",
        "train_csv = \"train.csv\"\n",
        "# dataframes de los datos\n",
        "houses_train = pd.read_csv(train_csv,index_col=0)\n",
        "houses_test = pd.read_csv(test_csv, index_col=0)"
      ],
      "execution_count": null,
      "outputs": [
        {
          "output_type": "execute_result",
          "data": {
            "text/plain": [
              "(1459, 79)"
            ]
          },
          "metadata": {},
          "execution_count": 142
        }
      ]
    },
    {
      "cell_type": "code",
      "metadata": {
        "colab": {
          "base_uri": "https://localhost:8080/"
        },
        "id": "wY8pO0hGKOxi",
        "outputId": "0ae62e26-6519-413d-e652-13116bd472d3"
      },
      "source": [
        "# separacion de muestras y targets\n",
        "train_samples = houses_train.iloc[:, :79]\n",
        "train_prices = houses_train.iloc[:, -1]\n",
        "\n",
        "train_prices_array = train_prices.to_numpy().astype(\"float64\")\n",
        "# resumen de los precios\n",
        "train_prices.describe()"
      ],
      "execution_count": null,
      "outputs": [
        {
          "output_type": "execute_result",
          "data": {
            "text/plain": [
              "count      1460.000000\n",
              "mean     180921.195890\n",
              "std       79442.502883\n",
              "min       34900.000000\n",
              "25%      129975.000000\n",
              "50%      163000.000000\n",
              "75%      214000.000000\n",
              "max      755000.000000\n",
              "Name: SalePrice, dtype: float64"
            ]
          },
          "metadata": {},
          "execution_count": 63
        }
      ]
    },
    {
      "cell_type": "code",
      "metadata": {
        "id": "sv96R8my0yJT"
      },
      "source": [
        "# dataframe de caracteristicas cualitativas\n",
        "categorical = train_samples.select_dtypes(include=[\"object\"])\n",
        "categorical_test = houses_test.select_dtypes(include=[\"object\"])\n",
        "\n",
        "total_ds = pd.concat([categorical, categorical_test], axis=0)\n",
        "total_categorical = pd.get_dummies(total_ds)\n",
        "\n",
        "dummy_train = total_categorical.iloc[:1460,:].to_numpy().astype(\"float64\")\n",
        "dummy_test = total_categorical.iloc[1460:,:].to_numpy().astype(\"float64\")"
      ],
      "execution_count": null,
      "outputs": []
    },
    {
      "cell_type": "code",
      "metadata": {
        "id": "np2PjHQoO4kI"
      },
      "source": [
        "from tensorflow.keras import models\n",
        "from tensorflow.keras import layers\n",
        "\n",
        "# construccion del modelo\n",
        "model = models.Sequential([layers.Dense(128, activation='relu', input_shape=((252,))),\n",
        "                          layers.Dense(64, activation='relu'),\n",
        "                          layers.Dense(64, activation='relu'),\n",
        "                          layers.Dense(64, activation='relu'),\n",
        "                          layers.Dense(64, activation='relu'),\n",
        "                          layers.Dense(1)])\n",
        "\n",
        "model.compile(optimizer='rmsprop', loss='mse', metrics=['mae'])"
      ],
      "execution_count": null,
      "outputs": []
    },
    {
      "cell_type": "code",
      "metadata": {
        "id": "DBPe7BY2i7Z-"
      },
      "source": [
        "for i in range(4):\n",
        "    cat_x, val_x, cat_y, val_y = train_test_split(dummy_train, train_prices_array, test_size=0.33)\n",
        "    history = model.fit(cat_x, cat_y, epochs=150, batch_size = 30, verbose=0)"
      ],
      "execution_count": null,
      "outputs": []
    },
    {
      "cell_type": "code",
      "metadata": {
        "colab": {
          "base_uri": "https://localhost:8080/"
        },
        "id": "Vf_rybQQDNV0",
        "outputId": "5d0075a8-245a-4744-8a02-ea8e56f341b5"
      },
      "source": [
        "# evaluacion del modelo\n",
        "model.evaluate(val_x, val_y)\n",
        "# Error absoluto medio de 27k"
      ],
      "execution_count": null,
      "outputs": [
        {
          "output_type": "stream",
          "name": "stdout",
          "text": [
            "16/16 [==============================] - 0s 2ms/step - loss: 41247612.0000 - mae: 4528.3677\n"
          ]
        },
        {
          "output_type": "execute_result",
          "data": {
            "text/plain": [
              "[41247612.0, 4528.36767578125]"
            ]
          },
          "metadata": {},
          "execution_count": 260
        }
      ]
    },
    {
      "cell_type": "code",
      "metadata": {
        "colab": {
          "base_uri": "https://localhost:8080/",
          "height": 295
        },
        "id": "cED6Sa42K2m6",
        "outputId": "319ae44d-5ea5-4711-b9f3-385e8066e0d0"
      },
      "source": [
        "predictions = model.predict(val_x)\n",
        "\n",
        "plt.plot(range(1, len(val_x) + 1), val_y,label='Prices')\n",
        "plt.plot(range(1, len(val_x) + 1), predictions,label='Predictions')\n",
        "\n",
        "plt.title(\"Only Categorical\")\n",
        "plt.xlabel('Houses')\n",
        "plt.ylabel('Prices')\n",
        "plt.legend()\n",
        "plt.show()"
      ],
      "execution_count": null,
      "outputs": [
        {
          "output_type": "display_data",
          "data": {
            "image/png": "[encoded data removed]",
            "text/plain": [
              "<Figure size 432x288 with 1 Axes>"
            ]
          },
          "metadata": {
            "needs_background": "light"
          }
        }
      ]
    },
    {
      "cell_type": "code",
      "metadata": {
        "id": "0pQ8ZGcdrjwq"
      },
      "source": [
        "predictions = [x[0] for x in list(model.predict(dummy_test))]\n",
        "\n",
        "sample = pd.read_csv(\"sample_submission.csv\")\n",
        "out = pd.DataFrame({\"Id\":sample.Id, \"SalePrice\": predictions})\n",
        "\n",
        "out.to_csv(\"submission.csv\",index=False)\n"
      ],
      "execution_count": null,
      "outputs": []
    },
    {
      "cell_type": "code",
      "metadata": {
        "colab": {
          "base_uri": "https://localhost:8080/"
        },
        "id": "uJw0fc5ytFGs",
        "outputId": "b6070115-c949-4bfb-a8d0-0d83ae04f200"
      },
      "source": [
        "!kaggle competitions submit -c house-prices-advanced-regression-techniques -f submission.csv -m \"First Attempt\""
      ],
      "execution_count": 264,
      "outputs": [
        {
          "output_type": "stream",
          "name": "stdout",
          "text": [
            "Warning: Looks like you're using an outdated API Version, please consider updating (server 1.5.12 / client 1.5.4)\n",
            "100% 25.6k/25.6k [00:00<00:00, 99.0kB/s]\n",
            "Successfully submitted to House Prices - Advanced Regression Techniques"
          ]
        }
      ]
    }
  ]
}