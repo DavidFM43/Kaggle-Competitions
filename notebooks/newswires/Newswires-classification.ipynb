{
  "cells": [
    {
      "cell_type": "markdown",
      "metadata": {
        "id": "2XHDhRGVhVEX"
      },
      "source": [
        "# Categorias de Noticias"
      ]
    },
    {
      "cell_type": "code",
      "execution_count": 1,
      "metadata": {
        "id": "-4EgklLoi9Sy"
      },
      "outputs": [
        {
          "name": "stderr",
          "output_type": "stream",
          "text": [
            "2022-08-14 22:14:34.601806: W tensorflow/stream_executor/platform/default/dso_loader.cc:64] Could not load dynamic library 'libcudart.so.11.0'; dlerror: libcudart.so.11.0: cannot open shared object file: No such file or directory\n",
            "2022-08-14 22:14:34.601832: I tensorflow/stream_executor/cuda/cudart_stub.cc:29] Ignore above cudart dlerror if you do not have a GPU set up on your machine.\n"
          ]
        }
      ],
      "source": [
        "import numpy as np\n",
        "from keras.datasets import reuters\n"
      ]
    },
    {
      "cell_type": "code",
      "execution_count": 2,
      "metadata": {
        "colab": {
          "base_uri": "https://localhost:8080/"
        },
        "id": "KlM5hfaejpVL",
        "outputId": "b06fb214-5d19-41a7-b75a-2be842d7c2d0"
      },
      "outputs": [
        {
          "name": "stdout",
          "output_type": "stream",
          "text": [
            "Downloading data from https://storage.googleapis.com/tensorflow/tf-keras-datasets/reuters.npz\n",
            "2110848/2110848 [==============================] - 4s 2us/step\n"
          ]
        }
      ],
      "source": [
        "(train_data, train_labels), (test_data, test_labels) = reuters.load_data(\n",
        "    num_words=10000\n",
        ")  # descarga de los datos\n"
      ]
    },
    {
      "cell_type": "code",
      "execution_count": null,
      "metadata": {
        "colab": {
          "base_uri": "https://localhost:8080/"
        },
        "id": "AkVaOiFrecWa",
        "outputId": "1fc6d586-0e3d-4158-84aa-cfb8db26302f"
      },
      "outputs": [
        {
          "data": {
            "text/plain": [
              "(8982,)"
            ]
          },
          "execution_count": 7,
          "metadata": {},
          "output_type": "execute_result"
        }
      ],
      "source": [
        "train_data.shape\n"
      ]
    },
    {
      "cell_type": "code",
      "execution_count": null,
      "metadata": {
        "colab": {
          "base_uri": "https://localhost:8080/",
          "height": 120
        },
        "id": "DH61cBMGkBgN",
        "outputId": "c8f1d8b8-3116-42f0-d934-e2f3fd0e8e61"
      },
      "outputs": [
        {
          "name": "stdout",
          "output_type": "stream",
          "text": [
            "Downloading data from https://storage.googleapis.com/tensorflow/tf-keras-datasets/reuters_word_index.json\n",
            "557056/550378 [==============================] - 0s 0us/step\n",
            "565248/550378 [==============================] - 0s 0us/step\n"
          ]
        },
        {
          "data": {
            "application/vnd.google.colaboratory.intrinsic+json": {
              "type": "string"
            },
            "text/plain": [
              "'? ? ? said as a result of its december acquisition of space co it expects earnings per share in 1987 of 1 15 to 1 30 dlrs per share up from 70 cts in 1986 the company said pretax net should rise to nine to 10 mln dlrs from six mln dlrs in 1986 and rental operation revenues to 19 to 22 mln dlrs from 12 5 mln dlrs it said cash flow per share this year should be 2 50 to three dlrs reuter 3'"
            ]
          },
          "execution_count": 4,
          "metadata": {},
          "output_type": "execute_result"
        }
      ],
      "source": [
        "translator = {index: word for word, index in reuters.get_word_index().items()}\n",
        "noticia = \" \".join([translator.get(i - 3, \"?\") for i in train_data[0]])\n",
        "noticia\n"
      ]
    },
    {
      "cell_type": "markdown",
      "metadata": {
        "id": "tR4DbA7Kn_B_"
      },
      "source": [
        "#Procesamiento previo del input_data"
      ]
    },
    {
      "cell_type": "code",
      "execution_count": null,
      "metadata": {
        "id": "_7sDLwbynVsJ"
      },
      "outputs": [],
      "source": [
        "def vectorize_data(sequences):\n",
        "    results = np.zeros((len(sequences), 10000))\n",
        "    for i, sequence in enumerate(sequences):\n",
        "        results[i, sequence] = 1\n",
        "    return results\n",
        "\n",
        "\n",
        "vectorize_data(train_data)\n",
        "\n",
        "x_train = vectorize_data(train_data)\n",
        "x_test = vectorize_data(test_data)\n",
        "\n",
        "\n",
        "def to_one_hot(labels):\n",
        "    dimension = 46\n",
        "    result = np.zeros((len(labels), dimension))\n",
        "    for i, label in enumerate(labels):\n",
        "        result[i, label] = 1.0\n",
        "    return result\n",
        "\n",
        "\n",
        "y_train = to_one_hot(train_labels)\n",
        "y_test = to_one_hot(test_labels)\n"
      ]
    },
    {
      "cell_type": "code",
      "execution_count": null,
      "metadata": {
        "id": "FmsAVNDuiHQ0"
      },
      "outputs": [],
      "source": [
        "from keras import models\n",
        "from keras import layers\n"
      ]
    },
    {
      "cell_type": "markdown",
      "metadata": {
        "id": "Z_CDPuk5oHWC"
      },
      "source": [
        "#Construcción del modelo"
      ]
    },
    {
      "cell_type": "code",
      "execution_count": null,
      "metadata": {
        "id": "AVA5gbEal6yd"
      },
      "outputs": [],
      "source": [
        "model = models.Sequential()\n",
        "model.add(layers.Dense(64, activation=\"relu\", input_shape=(10000,)))\n",
        "model.add(layers.Dense(64, activation=\"relu\"))\n",
        "model.add(layers.Dense(46, activation=\"softmax\"))\n",
        "\n",
        "model.compile(\n",
        "    optimizer=\"rmsprop\", loss=\"categorical_crossentropy\", metrics=[\"accuracy\"]\n",
        ")\n",
        "\n",
        "x_val = x_train[:1000]\n",
        "partial_x_train = x_train[1000:]\n",
        "\n",
        "y_val = y_train[:1000]\n",
        "partial_y_train = y_train[1000:]\n"
      ]
    },
    {
      "cell_type": "markdown",
      "metadata": {
        "id": "9IUd4HH0oLed"
      },
      "source": [
        "# Entrenamiento"
      ]
    },
    {
      "cell_type": "code",
      "execution_count": null,
      "metadata": {
        "colab": {
          "base_uri": "https://localhost:8080/"
        },
        "id": "0Np5gcoUmgOg",
        "outputId": "1874d4c7-a477-4ccc-949a-c58ec1e6923c"
      },
      "outputs": [
        {
          "name": "stdout",
          "output_type": "stream",
          "text": [
            "Epoch 1/20\n",
            "16/16 [==============================] - 2s 67ms/step - loss: 2.7277 - accuracy: 0.5075 - val_loss: 1.8199 - val_accuracy: 0.6350\n",
            "Epoch 2/20\n",
            "16/16 [==============================] - 1s 48ms/step - loss: 1.4803 - accuracy: 0.7057 - val_loss: 1.3450 - val_accuracy: 0.7060\n",
            "Epoch 3/20\n",
            "16/16 [==============================] - 1s 49ms/step - loss: 1.0824 - accuracy: 0.7737 - val_loss: 1.1705 - val_accuracy: 0.7340\n",
            "Epoch 4/20\n",
            "16/16 [==============================] - 1s 48ms/step - loss: 0.8509 - accuracy: 0.8200 - val_loss: 1.0489 - val_accuracy: 0.7760\n",
            "Epoch 5/20\n",
            "16/16 [==============================] - 1s 48ms/step - loss: 0.6787 - accuracy: 0.8584 - val_loss: 0.9618 - val_accuracy: 0.8010\n",
            "Epoch 6/20\n",
            "16/16 [==============================] - 1s 48ms/step - loss: 0.5432 - accuracy: 0.8876 - val_loss: 0.9189 - val_accuracy: 0.8080\n",
            "Epoch 7/20\n",
            "16/16 [==============================] - 1s 48ms/step - loss: 0.4421 - accuracy: 0.9093 - val_loss: 0.8903 - val_accuracy: 0.8160\n",
            "Epoch 8/20\n",
            "16/16 [==============================] - 1s 49ms/step - loss: 0.3608 - accuracy: 0.9253 - val_loss: 0.9018 - val_accuracy: 0.8230\n",
            "Epoch 9/20\n",
            "16/16 [==============================] - 1s 48ms/step - loss: 0.2967 - accuracy: 0.9357 - val_loss: 0.8733 - val_accuracy: 0.8300\n",
            "Epoch 10/20\n",
            "16/16 [==============================] - 1s 49ms/step - loss: 0.2486 - accuracy: 0.9445 - val_loss: 0.9276 - val_accuracy: 0.8160\n",
            "Epoch 11/20\n",
            "16/16 [==============================] - 1s 48ms/step - loss: 0.2179 - accuracy: 0.9468 - val_loss: 0.9059 - val_accuracy: 0.8230\n",
            "Epoch 12/20\n",
            "16/16 [==============================] - 1s 47ms/step - loss: 0.1924 - accuracy: 0.9505 - val_loss: 0.8985 - val_accuracy: 0.8200\n",
            "Epoch 13/20\n",
            "16/16 [==============================] - 1s 49ms/step - loss: 0.1687 - accuracy: 0.9514 - val_loss: 0.9285 - val_accuracy: 0.8160\n",
            "Epoch 14/20\n",
            "16/16 [==============================] - 1s 48ms/step - loss: 0.1557 - accuracy: 0.9546 - val_loss: 0.9447 - val_accuracy: 0.8120\n",
            "Epoch 15/20\n",
            "16/16 [==============================] - 1s 48ms/step - loss: 0.1421 - accuracy: 0.9573 - val_loss: 0.9551 - val_accuracy: 0.8180\n",
            "Epoch 16/20\n",
            "16/16 [==============================] - 1s 47ms/step - loss: 0.1351 - accuracy: 0.9572 - val_loss: 1.0186 - val_accuracy: 0.8060\n",
            "Epoch 17/20\n",
            "16/16 [==============================] - 1s 48ms/step - loss: 0.1269 - accuracy: 0.9573 - val_loss: 1.0473 - val_accuracy: 0.7940\n",
            "Epoch 18/20\n",
            "16/16 [==============================] - 1s 49ms/step - loss: 0.1190 - accuracy: 0.9565 - val_loss: 1.0546 - val_accuracy: 0.8130\n",
            "Epoch 19/20\n",
            "16/16 [==============================] - 1s 48ms/step - loss: 0.1181 - accuracy: 0.9570 - val_loss: 1.0518 - val_accuracy: 0.8050\n",
            "Epoch 20/20\n",
            "16/16 [==============================] - 1s 47ms/step - loss: 0.1129 - accuracy: 0.9559 - val_loss: 1.0988 - val_accuracy: 0.8070\n"
          ]
        }
      ],
      "source": [
        "history = model.fit(\n",
        "    x=partial_x_train,\n",
        "    y=partial_y_train,\n",
        "    epochs=20,\n",
        "    batch_size=512,\n",
        "    validation_data=(x_val, y_val),\n",
        ")\n"
      ]
    },
    {
      "cell_type": "markdown",
      "metadata": {
        "id": "fdPbNZbyoVwA"
      },
      "source": [
        "#Resultados"
      ]
    },
    {
      "cell_type": "code",
      "execution_count": null,
      "metadata": {
        "colab": {
          "base_uri": "https://localhost:8080/",
          "height": 295
        },
        "id": "55cb3sJzndAT",
        "outputId": "43f50391-a176-44af-d55a-eeddf963b397"
      },
      "outputs": [
        {
          "data": {
            "image/png": "[encoded data removed]",
            "text/plain": [
              "<Figure size 432x288 with 1 Axes>"
            ]
          },
          "metadata": {
            "needs_background": "light"
          },
          "output_type": "display_data"
        }
      ],
      "source": [
        "import matplotlib.pyplot as plt\n",
        "\n",
        "hist_dict = history.history\n",
        "\n",
        "loss_values = hist_dict[\"loss\"]\n",
        "val_loss_values = hist_dict[\"val_loss\"]\n",
        "acc = hist_dict[\"accuracy\"]\n",
        "epochs = range(1, len(acc) + 1)\n",
        "\n",
        "plt.plot(epochs, loss_values, \"bo\", label=\"Training loss\")\n",
        "plt.plot(epochs, val_loss_values, \"b\", label=\"Validation loss\")\n",
        "\n",
        "plt.title(\"Training and validation loss\")\n",
        "plt.xlabel(\"Epochs\")\n",
        "plt.ylabel(\"Loss\")\n",
        "plt.legend()\n",
        "plt.show()\n"
      ]
    },
    {
      "cell_type": "code",
      "execution_count": null,
      "metadata": {
        "colab": {
          "base_uri": "https://localhost:8080/",
          "height": 295
        },
        "id": "xEHB8lt2neUu",
        "outputId": "2e8e57f5-6315-4ca4-9c32-e8beac2e7c76"
      },
      "outputs": [
        {
          "data": {
            "image/png": "[encoded data removed]",
            "text/plain": [
              "<Figure size 432x288 with 1 Axes>"
            ]
          },
          "metadata": {
            "needs_background": "light"
          },
          "output_type": "display_data"
        }
      ],
      "source": [
        "plt.clf()\n",
        "acc_values = hist_dict[\"accuracy\"]\n",
        "val_acc_values = hist_dict[\"val_accuracy\"]\n",
        "\n",
        "plt.plot(epochs, acc_values, \"bo\", label=\"Training acc\")\n",
        "plt.plot(epochs, val_acc_values, \"b\", label=\"Validation acc\")\n",
        "\n",
        "plt.title(\"Training and validation accuracy\")\n",
        "plt.xlabel(\"Epochs\")\n",
        "plt.ylabel(\"Accuracy\")\n",
        "plt.legend()\n",
        "\n",
        "plt.show()\n"
      ]
    },
    {
      "cell_type": "markdown",
      "metadata": {
        "id": "CPAm1x0QoYqi"
      },
      "source": [
        "# Ajuste y Reentrenamiento\n",
        "\n",
        "Se entrenanan solo 9 *epochs* ya que es aproximadamente en ese punto donde el desempeño empieza a disminuir"
      ]
    },
    {
      "cell_type": "code",
      "execution_count": null,
      "metadata": {
        "colab": {
          "base_uri": "https://localhost:8080/"
        },
        "id": "TOie2SuiooTx",
        "outputId": "55c81ede-32f1-407a-9495-61733902792a"
      },
      "outputs": [
        {
          "name": "stdout",
          "output_type": "stream",
          "text": [
            "Epoch 1/9\n",
            "16/16 [==============================] - 1s 53ms/step - loss: 2.6735 - accuracy: 0.4777 - val_loss: 1.7326 - val_accuracy: 0.6610\n",
            "Epoch 2/9\n",
            "16/16 [==============================] - 1s 43ms/step - loss: 1.4256 - accuracy: 0.7060 - val_loss: 1.2957 - val_accuracy: 0.7170\n",
            "Epoch 3/9\n",
            "16/16 [==============================] - 1s 43ms/step - loss: 1.0587 - accuracy: 0.7719 - val_loss: 1.1250 - val_accuracy: 0.7480\n",
            "Epoch 4/9\n",
            "16/16 [==============================] - 1s 43ms/step - loss: 0.8348 - accuracy: 0.8205 - val_loss: 1.0393 - val_accuracy: 0.7770\n",
            "Epoch 5/9\n",
            "16/16 [==============================] - 1s 43ms/step - loss: 0.6717 - accuracy: 0.8577 - val_loss: 0.9702 - val_accuracy: 0.7970\n",
            "Epoch 6/9\n",
            "16/16 [==============================] - 1s 44ms/step - loss: 0.5409 - accuracy: 0.8857 - val_loss: 0.9231 - val_accuracy: 0.8050\n",
            "Epoch 7/9\n",
            "16/16 [==============================] - 1s 42ms/step - loss: 0.4345 - accuracy: 0.9099 - val_loss: 0.8951 - val_accuracy: 0.8130\n",
            "Epoch 8/9\n",
            "16/16 [==============================] - 1s 43ms/step - loss: 0.3564 - accuracy: 0.9267 - val_loss: 0.9851 - val_accuracy: 0.7990\n",
            "Epoch 9/9\n",
            "16/16 [==============================] - 1s 42ms/step - loss: 0.2945 - accuracy: 0.9356 - val_loss: 0.8988 - val_accuracy: 0.8200\n"
          ]
        },
        {
          "data": {
            "text/plain": [
              "<keras.callbacks.History at 0x7ffa80e5a090>"
            ]
          },
          "execution_count": 20,
          "metadata": {},
          "output_type": "execute_result"
        }
      ],
      "source": [
        "model = models.Sequential()\n",
        "model.add(layers.Dense(64, activation=\"relu\", input_shape=(10000,)))\n",
        "model.add(layers.Dense(64, activation=\"relu\"))\n",
        "model.add(layers.Dense(46, activation=\"softmax\"))\n",
        "\n",
        "model.compile(\n",
        "    optimizer=\"rmsprop\", loss=\"categorical_crossentropy\", metrics=[\"accuracy\"]\n",
        ")\n",
        "\n",
        "model.fit(\n",
        "    x=partial_x_train,\n",
        "    y=partial_y_train,\n",
        "    epochs=9,\n",
        "    batch_size=512,\n",
        "    validation_data=(x_val, y_val),\n",
        ")\n"
      ]
    },
    {
      "cell_type": "code",
      "execution_count": null,
      "metadata": {
        "colab": {
          "base_uri": "https://localhost:8080/"
        },
        "id": "D3lAUVE-oy4P",
        "outputId": "6eb70a07-6fd3-426d-9252-a652d9c0b6dc"
      },
      "outputs": [
        {
          "name": "stdout",
          "output_type": "stream",
          "text": [
            "71/71 [==============================] - 0s 3ms/step - loss: 1.2759 - accuracy: 0.7792\n"
          ]
        }
      ],
      "source": [
        "results = model.evaluate(x_test, y_test)\n"
      ]
    },
    {
      "cell_type": "markdown",
      "metadata": {
        "id": "AgJ75JLTquw9"
      },
      "source": [
        "# Predicciones"
      ]
    },
    {
      "cell_type": "code",
      "execution_count": null,
      "metadata": {
        "colab": {
          "base_uri": "https://localhost:8080/"
        },
        "id": "RakROCU4quMO",
        "outputId": "e95b01fa-09ef-48a5-d227-ccb8eec3a0cf"
      },
      "outputs": [
        {
          "data": {
            "text/plain": [
              "array([[3.4148698e-06, 5.1479374e-06, 6.0791211e-07, ..., 3.2524936e-04,\n",
              "        8.0709069e-06, 1.5180738e-07],\n",
              "       [1.8682027e-03, 3.9504785e-03, 5.0961431e-03, ..., 1.9053357e-06,\n",
              "        3.7381568e-07, 1.6320516e-04],\n",
              "       [7.6109190e-03, 6.9092554e-01, 2.2794630e-03, ..., 7.7833967e-05,\n",
              "        1.9065877e-04, 6.8427238e-04],\n",
              "       ...,\n",
              "       [7.5266425e-06, 4.1540257e-05, 3.9273282e-06, ..., 1.0844348e-04,\n",
              "        1.9800376e-05, 1.2111168e-06],\n",
              "       [9.3442650e-04, 1.1408386e-02, 9.0515608e-04, ..., 1.4462235e-03,\n",
              "        3.3412490e-04, 1.2485616e-04],\n",
              "       [5.8563851e-04, 5.2751976e-01, 1.3447780e-02, ..., 4.9390332e-05,\n",
              "        8.1945363e-05, 9.5017412e-04]], dtype=float32)"
            ]
          },
          "execution_count": 30,
          "metadata": {},
          "output_type": "execute_result"
        }
      ],
      "source": [
        "prediction_probabilities = model.predict(x_test)\n",
        "prediction_probabilities\n"
      ]
    },
    {
      "cell_type": "code",
      "execution_count": null,
      "metadata": {
        "colab": {
          "base_uri": "https://localhost:8080/"
        },
        "id": "3VIVMZDLrYNA",
        "outputId": "d2ddeb27-eda3-45b6-d783-3bf77782e6a5"
      },
      "outputs": [
        {
          "data": {
            "text/plain": [
              "array([ 3, 10,  1, ...,  3,  4,  1])"
            ]
          },
          "execution_count": 41,
          "metadata": {},
          "output_type": "execute_result"
        }
      ],
      "source": [
        "predictions = np.array([np.where(x == max(x))[0][0] for x in prediction_probabilities])\n",
        "predictions\n"
      ]
    },
    {
      "cell_type": "code",
      "execution_count": null,
      "metadata": {
        "colab": {
          "base_uri": "https://localhost:8080/"
        },
        "id": "_dIHFcNiro_f",
        "outputId": "77e97845-5b1d-4757-ad30-9b8ca37df07a"
      },
      "outputs": [
        {
          "data": {
            "text/plain": [
              "array([ 3, 10,  1, ...,  3,  3, 24])"
            ]
          },
          "execution_count": 33,
          "metadata": {},
          "output_type": "execute_result"
        }
      ],
      "source": [
        "test_labels\n"
      ]
    },
    {
      "cell_type": "markdown",
      "metadata": {
        "id": "HaNjtk0TttnO"
      },
      "source": [
        "# Experimentación\n"
      ]
    },
    {
      "cell_type": "markdown",
      "metadata": {
        "id": "8ybqVOhZuR6V"
      },
      "source": [
        "## Mas dimensiones en la capas intermedias"
      ]
    },
    {
      "cell_type": "code",
      "execution_count": null,
      "metadata": {
        "colab": {
          "base_uri": "https://localhost:8080/"
        },
        "id": "XqZKqFKYtwC6",
        "outputId": "782f12f5-18df-4dfc-8d94-38fd1d4f7ef8"
      },
      "outputs": [
        {
          "name": "stdout",
          "output_type": "stream",
          "text": [
            "Epoch 1/9\n",
            "16/16 [==============================] - 2s 88ms/step - loss: 2.2550 - accuracy: 0.5590 - val_loss: 1.3806 - val_accuracy: 0.6970\n",
            "Epoch 2/9\n",
            "16/16 [==============================] - 1s 77ms/step - loss: 1.1141 - accuracy: 0.7613 - val_loss: 1.1201 - val_accuracy: 0.7460\n",
            "Epoch 3/9\n",
            "16/16 [==============================] - 1s 77ms/step - loss: 0.7934 - accuracy: 0.8286 - val_loss: 1.0220 - val_accuracy: 0.7830\n",
            "Epoch 4/9\n",
            "16/16 [==============================] - 1s 76ms/step - loss: 0.5697 - accuracy: 0.8829 - val_loss: 0.9368 - val_accuracy: 0.7990\n",
            "Epoch 5/9\n",
            "16/16 [==============================] - 1s 78ms/step - loss: 0.4220 - accuracy: 0.9122 - val_loss: 0.9096 - val_accuracy: 0.8090\n",
            "Epoch 6/9\n",
            "16/16 [==============================] - 1s 76ms/step - loss: 0.3232 - accuracy: 0.9295 - val_loss: 0.8705 - val_accuracy: 0.8200\n",
            "Epoch 7/9\n",
            "16/16 [==============================] - 1s 77ms/step - loss: 0.2503 - accuracy: 0.9440 - val_loss: 0.9971 - val_accuracy: 0.7890\n",
            "Epoch 8/9\n",
            "16/16 [==============================] - 1s 77ms/step - loss: 0.2124 - accuracy: 0.9476 - val_loss: 0.9424 - val_accuracy: 0.8170\n",
            "Epoch 9/9\n",
            "16/16 [==============================] - 1s 76ms/step - loss: 0.1774 - accuracy: 0.9539 - val_loss: 0.9407 - val_accuracy: 0.8090\n",
            "71/71 [==============================] - 0s 4ms/step - loss: 1.0274 - accuracy: 0.7894\n"
          ]
        },
        {
          "data": {
            "text/plain": [
              "[1.0273782014846802, 0.7894033789634705]"
            ]
          },
          "execution_count": 14,
          "metadata": {},
          "output_type": "execute_result"
        }
      ],
      "source": [
        "model = models.Sequential()\n",
        "model.add(layers.Dense(128, activation=\"relu\", input_shape=(10000,)))\n",
        "model.add(layers.Dense(128, activation=\"relu\"))\n",
        "model.add(layers.Dense(46, activation=\"softmax\"))\n",
        "\n",
        "model.compile(\n",
        "    optimizer=\"rmsprop\", loss=\"categorical_crossentropy\", metrics=[\"accuracy\"]\n",
        ")\n",
        "\n",
        "model.fit(\n",
        "    x=partial_x_train,\n",
        "    y=partial_y_train,\n",
        "    epochs=9,\n",
        "    batch_size=512,\n",
        "    validation_data=(x_val, y_val),\n",
        ")\n",
        "\n",
        "model.evaluate(x_test, y_test)\n"
      ]
    },
    {
      "cell_type": "markdown",
      "metadata": {
        "id": "hNLB9eTXusdc"
      },
      "source": [
        "## Menos dimensiones en las capas intermedias"
      ]
    },
    {
      "cell_type": "code",
      "execution_count": null,
      "metadata": {
        "colab": {
          "base_uri": "https://localhost:8080/"
        },
        "id": "wVTF58kduvzQ",
        "outputId": "d2f2597b-0ee7-4f04-daa9-701cb1fbb953"
      },
      "outputs": [
        {
          "name": "stdout",
          "output_type": "stream",
          "text": [
            "Epoch 1/9\n",
            "16/16 [==============================] - 1s 48ms/step - loss: 3.2513 - accuracy: 0.3449 - val_loss: 2.6942 - val_accuracy: 0.3800\n",
            "Epoch 2/9\n",
            "16/16 [==============================] - 1s 35ms/step - loss: 2.3461 - accuracy: 0.4625 - val_loss: 2.0554 - val_accuracy: 0.5660\n",
            "Epoch 3/9\n",
            "16/16 [==============================] - 1s 35ms/step - loss: 1.8102 - accuracy: 0.6290 - val_loss: 1.6934 - val_accuracy: 0.6340\n",
            "Epoch 4/9\n",
            "16/16 [==============================] - 1s 36ms/step - loss: 1.4919 - accuracy: 0.6913 - val_loss: 1.4888 - val_accuracy: 0.6770\n",
            "Epoch 5/9\n",
            "16/16 [==============================] - 1s 35ms/step - loss: 1.2862 - accuracy: 0.7251 - val_loss: 1.3547 - val_accuracy: 0.6970\n",
            "Epoch 6/9\n",
            "16/16 [==============================] - 1s 36ms/step - loss: 1.1373 - accuracy: 0.7491 - val_loss: 1.2732 - val_accuracy: 0.7220\n",
            "Epoch 7/9\n",
            "16/16 [==============================] - 1s 35ms/step - loss: 1.0182 - accuracy: 0.7775 - val_loss: 1.2055 - val_accuracy: 0.7410\n",
            "Epoch 8/9\n",
            "16/16 [==============================] - 1s 35ms/step - loss: 0.9171 - accuracy: 0.8018 - val_loss: 1.1608 - val_accuracy: 0.7500\n",
            "Epoch 9/9\n",
            "16/16 [==============================] - 1s 35ms/step - loss: 0.8305 - accuracy: 0.8211 - val_loss: 1.1288 - val_accuracy: 0.7600\n",
            "71/71 [==============================] - 0s 2ms/step - loss: 1.1850 - accuracy: 0.7431\n"
          ]
        },
        {
          "data": {
            "text/plain": [
              "[1.1850464344024658, 0.7430988550186157]"
            ]
          },
          "execution_count": 15,
          "metadata": {},
          "output_type": "execute_result"
        }
      ],
      "source": [
        "model = models.Sequential()\n",
        "model.add(layers.Dense(18, activation=\"relu\", input_shape=(10000,)))\n",
        "model.add(layers.Dense(18, activation=\"relu\"))\n",
        "model.add(layers.Dense(46, activation=\"softmax\"))\n",
        "\n",
        "model.compile(\n",
        "    optimizer=\"rmsprop\", loss=\"categorical_crossentropy\", metrics=[\"accuracy\"]\n",
        ")\n",
        "\n",
        "model.fit(\n",
        "    x=partial_x_train,\n",
        "    y=partial_y_train,\n",
        "    epochs=9,\n",
        "    batch_size=512,\n",
        "    validation_data=(x_val, y_val),\n",
        ")\n",
        "\n",
        "model.evaluate(x_test, y_test)\n"
      ]
    },
    {
      "cell_type": "markdown",
      "metadata": {
        "id": "T08Ui2DpuVrL"
      },
      "source": [
        "## Menos capas intermedias"
      ]
    },
    {
      "cell_type": "code",
      "execution_count": null,
      "metadata": {
        "colab": {
          "base_uri": "https://localhost:8080/"
        },
        "id": "JJgDTiA1uYtz",
        "outputId": "32860b16-2cdf-4eaf-f69c-63a1a92caea5"
      },
      "outputs": [
        {
          "name": "stdout",
          "output_type": "stream",
          "text": [
            "Epoch 1/9\n",
            "16/16 [==============================] - 1s 62ms/step - loss: 2.6308 - accuracy: 0.5758 - val_loss: 1.8585 - val_accuracy: 0.6620\n",
            "Epoch 2/9\n",
            "16/16 [==============================] - 1s 49ms/step - loss: 1.4817 - accuracy: 0.7231 - val_loss: 1.3557 - val_accuracy: 0.7290\n",
            "Epoch 3/9\n",
            "16/16 [==============================] - 1s 48ms/step - loss: 1.0656 - accuracy: 0.7904 - val_loss: 1.1385 - val_accuracy: 0.7690\n",
            "Epoch 4/9\n",
            "16/16 [==============================] - 1s 49ms/step - loss: 0.8291 - accuracy: 0.8327 - val_loss: 1.0164 - val_accuracy: 0.8040\n",
            "Epoch 5/9\n",
            "16/16 [==============================] - 1s 50ms/step - loss: 0.6658 - accuracy: 0.8690 - val_loss: 0.9455 - val_accuracy: 0.8100\n",
            "Epoch 6/9\n",
            "16/16 [==============================] - 1s 48ms/step - loss: 0.5441 - accuracy: 0.8900 - val_loss: 0.8971 - val_accuracy: 0.8160\n",
            "Epoch 7/9\n",
            "16/16 [==============================] - 1s 48ms/step - loss: 0.4511 - accuracy: 0.9090 - val_loss: 0.8611 - val_accuracy: 0.8260\n",
            "Epoch 8/9\n",
            "16/16 [==============================] - 1s 49ms/step - loss: 0.3748 - accuracy: 0.9243 - val_loss: 0.8383 - val_accuracy: 0.8290\n",
            "Epoch 9/9\n",
            "16/16 [==============================] - 1s 48ms/step - loss: 0.3167 - accuracy: 0.9347 - val_loss: 0.8402 - val_accuracy: 0.8220\n",
            "71/71 [==============================] - 0s 3ms/step - loss: 0.9090 - accuracy: 0.7988\n"
          ]
        },
        {
          "data": {
            "text/plain": [
              "[0.9090307950973511, 0.7987533211708069]"
            ]
          },
          "execution_count": 16,
          "metadata": {},
          "output_type": "execute_result"
        }
      ],
      "source": [
        "model = models.Sequential()\n",
        "model.add(layers.Dense(64, activation=\"relu\", input_shape=(10000,)))\n",
        "model.add(layers.Dense(46, activation=\"softmax\"))\n",
        "\n",
        "model.compile(\n",
        "    optimizer=\"rmsprop\", loss=\"categorical_crossentropy\", metrics=[\"accuracy\"]\n",
        ")\n",
        "\n",
        "model.fit(\n",
        "    x=partial_x_train,\n",
        "    y=partial_y_train,\n",
        "    epochs=9,\n",
        "    batch_size=512,\n",
        "    validation_data=(x_val, y_val),\n",
        ")\n",
        "\n",
        "model.evaluate(x_test, y_test)\n"
      ]
    },
    {
      "cell_type": "markdown",
      "metadata": {
        "id": "fEIotoq9u0Cp"
      },
      "source": [
        "## Mas capas intermedias"
      ]
    },
    {
      "cell_type": "code",
      "execution_count": null,
      "metadata": {
        "colab": {
          "base_uri": "https://localhost:8080/"
        },
        "id": "BCTUrMbcu1-1",
        "outputId": "7cd55ba6-e336-4df1-9cda-320c2799dfaf"
      },
      "outputs": [
        {
          "name": "stdout",
          "output_type": "stream",
          "text": [
            "Epoch 1/9\n",
            "16/16 [==============================] - 2s 62ms/step - loss: 2.8556 - accuracy: 0.4411 - val_loss: 1.8011 - val_accuracy: 0.6180\n",
            "Epoch 2/9\n",
            "16/16 [==============================] - 1s 50ms/step - loss: 1.4938 - accuracy: 0.6862 - val_loss: 1.3971 - val_accuracy: 0.6950\n",
            "Epoch 3/9\n",
            "16/16 [==============================] - 1s 51ms/step - loss: 1.1179 - accuracy: 0.7506 - val_loss: 1.1933 - val_accuracy: 0.7280\n",
            "Epoch 4/9\n",
            "16/16 [==============================] - 1s 50ms/step - loss: 0.8822 - accuracy: 0.8052 - val_loss: 1.1465 - val_accuracy: 0.7460\n",
            "Epoch 5/9\n",
            "16/16 [==============================] - 1s 51ms/step - loss: 0.6906 - accuracy: 0.8514 - val_loss: 1.0653 - val_accuracy: 0.7670\n",
            "Epoch 6/9\n",
            "16/16 [==============================] - 1s 52ms/step - loss: 0.5469 - accuracy: 0.8831 - val_loss: 0.9989 - val_accuracy: 0.7940\n",
            "Epoch 7/9\n",
            "16/16 [==============================] - 1s 50ms/step - loss: 0.4584 - accuracy: 0.9024 - val_loss: 0.9952 - val_accuracy: 0.8050\n",
            "Epoch 8/9\n",
            "16/16 [==============================] - 1s 50ms/step - loss: 0.3513 - accuracy: 0.9250 - val_loss: 1.0071 - val_accuracy: 0.7990\n",
            "Epoch 9/9\n",
            "16/16 [==============================] - 1s 50ms/step - loss: 0.2937 - accuracy: 0.9340 - val_loss: 1.1474 - val_accuracy: 0.7720\n",
            "71/71 [==============================] - 0s 3ms/step - loss: 1.2244 - accuracy: 0.7533\n"
          ]
        },
        {
          "data": {
            "text/plain": [
              "[1.2244479656219482, 0.7533392906188965]"
            ]
          },
          "execution_count": 17,
          "metadata": {},
          "output_type": "execute_result"
        }
      ],
      "source": [
        "model = models.Sequential()\n",
        "model.add(layers.Dense(64, activation=\"relu\", input_shape=(10000,)))\n",
        "model.add(layers.Dense(64, activation=\"relu\"))\n",
        "model.add(layers.Dense(64, activation=\"relu\"))\n",
        "model.add(layers.Dense(46, activation=\"softmax\"))\n",
        "\n",
        "model.compile(\n",
        "    optimizer=\"rmsprop\", loss=\"categorical_crossentropy\", metrics=[\"accuracy\"]\n",
        ")\n",
        "\n",
        "model.fit(\n",
        "    x=partial_x_train,\n",
        "    y=partial_y_train,\n",
        "    epochs=9,\n",
        "    batch_size=512,\n",
        "    validation_data=(x_val, y_val),\n",
        ")\n",
        "\n",
        "model.evaluate(x_test, y_test)\n"
      ]
    }
  ],
  "metadata": {
    "colab": {
      "authorship_tag": "ABX9TyM/V/+9REYEHMQ0s9aFhMEC",
      "name": "Newswires_classification.ipynb",
      "provenance": []
    },
    "kernelspec": {
      "display_name": "Python 3.10.5 ('kaggle-competitions')",
      "language": "python",
      "name": "python3"
    },
    "language_info": {
      "codemirror_mode": {
        "name": "ipython",
        "version": 3
      },
      "file_extension": ".py",
      "mimetype": "text/x-python",
      "name": "python",
      "nbconvert_exporter": "python",
      "pygments_lexer": "ipython3",
      "version": "3.10.5"
    },
    "vscode": {
      "interpreter": {
        "hash": "bb97d5dd6b14f2153760d0a1abf243f08015a708c0400e93fc0bab8facbb240c"
      }
    }
  },
  "nbformat": 4,
  "nbformat_minor": 0
}
