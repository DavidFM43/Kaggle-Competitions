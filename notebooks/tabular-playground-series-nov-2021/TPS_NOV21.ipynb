{
  "cells": [
    {
      "cell_type": "markdown",
      "metadata": {
        "id": "jOcNOjDsCgB5"
      },
      "source": [
        "# TPS NOV 2021"
      ]
    },
    {
      "cell_type": "code",
      "execution_count": 1,
      "metadata": {
        "id": "hbfEowkw_ok5"
      },
      "outputs": [],
      "source": [
        "import tensorflow as tf\n",
        "import pandas as pd\n",
        "import matplotlib.pyplot as plt\n",
        "from sklearn.model_selection import train_test_split\n"
      ]
    },
    {
      "cell_type": "code",
      "execution_count": 4,
      "metadata": {
        "id": "IqryLnYOBL9X"
      },
      "outputs": [],
      "source": [
        "# dataframes de train y test\n",
        "test_data = pd.read_csv(\"test.csv\", index_col=0)\n",
        "train_data = pd.read_csv(\"train.csv\", index_col=0)\n"
      ]
    },
    {
      "cell_type": "code",
      "execution_count": 5,
      "metadata": {
        "id": "rF51kYPICLNp"
      },
      "outputs": [],
      "source": [
        "# targets y samples\n",
        "train_samples = train_data.iloc[:, :-1]\n",
        "train_targets = train_data.iloc[:, -1].to_numpy().astype(\"float64\")\n"
      ]
    },
    {
      "cell_type": "code",
      "execution_count": 6,
      "metadata": {
        "id": "2VYkeFsJ85-7"
      },
      "outputs": [],
      "source": [
        "# estandarizacion de los datos de train y test\n",
        "# Nota: Creo que esta no es la manera mas adecuada de estandarizar los datos.\n",
        "train_samples = train_samples.apply(lambda x: (x - x.mean()) / x.std()).to_numpy()\n",
        "test_data = test_data.apply(lambda x: (x - x.mean()) / x.std()).to_numpy()\n"
      ]
    },
    {
      "cell_type": "code",
      "execution_count": 115,
      "metadata": {
        "id": "hTuBkX1MCUan"
      },
      "outputs": [],
      "source": [
        "from keras import models, layers\n",
        "from keras import regularizers\n",
        "\n",
        "\n",
        "model = models.Sequential(\n",
        "    [\n",
        "        layers.Dense(\n",
        "            28,\n",
        "            kernel_regularizer=regularizers.l2(0.001),\n",
        "            activation=\"relu\",\n",
        "            input_shape=(100,),\n",
        "        ),\n",
        "        layers.Dense(28, activation=\"relu\"),\n",
        "        layers.Dense(1, activation=\"sigmoid\"),\n",
        "    ]\n",
        ")\n",
        "\n",
        "model.compile(\n",
        "    optimizer=\"rmsprop\", loss=\"binary_crossentropy\", metrics=[tf.keras.metrics.AUC()]\n",
        ")\n"
      ]
    },
    {
      "cell_type": "code",
      "execution_count": 116,
      "metadata": {
        "id": "ISWUNWroEuCw"
      },
      "outputs": [],
      "source": [
        "# hold_out validation\n",
        "train_x, val_x, train_y, val_y = train_test_split(\n",
        "    train_samples, train_targets, test_size=0.4\n",
        ")\n",
        "num_epochs = 5\n",
        "\n",
        "history = model.fit(\n",
        "    train_x,\n",
        "    train_y,\n",
        "    epochs=num_epochs,\n",
        "    batch_size=1000,\n",
        "    verbose=0,\n",
        "    validation_data=(val_x, val_y),\n",
        ")\n"
      ]
    },
    {
      "cell_type": "markdown",
      "metadata": {
        "id": "aHfXCeOzDwNW"
      },
      "source": [
        "Por alguna razon entre mas cercano es el puntaje de validación a 74.350 aprox., mejor es el puntaje en los datos de testing del LB. Si el puntaje de validación es mayor a 74.350, el puntaje del LB baja drasticamente, lo cual es contraintuivo.\n",
        "\n",
        "[Link de una discusion al respecto](https://www.kaggle.com/c/tabular-playground-series-nov-2021/discussion/289619)"
      ]
    },
    {
      "cell_type": "code",
      "execution_count": 119,
      "metadata": {
        "colab": {
          "base_uri": "https://localhost:8080/",
          "height": 670
        },
        "id": "e-28xFu5STWa",
        "outputId": "26fb8963-d699-45b6-f77f-1653b866db2f"
      },
      "outputs": [
        {
          "data": {
            "image/png": "[encoded data removed]",
            "text/plain": [
              "<Figure size 432x288 with 1 Axes>"
            ]
          },
          "metadata": {
            "needs_background": "light"
          },
          "output_type": "display_data"
        },
        {
          "data": {
            "image/png": "[encoded data removed]",
            "text/plain": [
              "<Figure size 432x288 with 1 Axes>"
            ]
          },
          "metadata": {
            "needs_background": "light"
          },
          "output_type": "display_data"
        },
        {
          "data": {
            "text/plain": [
              "count    5.000000\n",
              "mean     0.751370\n",
              "std      0.003463\n",
              "min      0.745710\n",
              "25%      0.750447\n",
              "50%      0.752909\n",
              "75%      0.753838\n",
              "max      0.753946\n",
              "dtype: float64"
            ]
          },
          "execution_count": 119,
          "metadata": {},
          "output_type": "execute_result"
        }
      ],
      "source": [
        "# visualizacion de los resultados\n",
        "acc = history.history[\"auc\"]\n",
        "val_acc = history.history[\"val_auc\"]\n",
        "loss = history.history[\"loss\"]\n",
        "val_loss = history.history[\"val_loss\"]\n",
        "\n",
        "epochs = range(1, num_epochs + 1)\n",
        "plt.plot(epochs, acc, \"bo\", label=\"Training accuracy\")\n",
        "plt.plot(epochs, val_acc, \"b\", label=\"Validation accuracy\")\n",
        "plt.legend()\n",
        "plt.figure()\n",
        "plt.plot(epochs, loss, \"bo\", label=\"Training loss\")\n",
        "plt.plot(epochs, val_loss, \"b\", label=\"Validation loss\")\n",
        "plt.legend()\n",
        "\n",
        "plt.show()\n",
        "\n",
        "val_acc_df = pd.Series(val_acc).describe()\n",
        "val_acc_df\n"
      ]
    },
    {
      "cell_type": "code",
      "execution_count": 121,
      "metadata": {
        "id": "vCpJj-MpQfXf"
      },
      "outputs": [],
      "source": [
        "# predicciones y submission file\n",
        "predictions = pd.DataFrame(model.predict(test_data))\n",
        "sample = pd.read_csv(\"sample_submission.csv\")\n",
        "out = pd.DataFrame({\"id\": sample.id, \"target\": predictions[0]})\n",
        "out.to_csv(\"submission.csv\", index=False)\n"
      ]
    },
    {
      "cell_type": "code",
      "execution_count": 122,
      "metadata": {
        "colab": {
          "base_uri": "https://localhost:8080/"
        },
        "id": "8se1LzEQQn-G",
        "outputId": "b6cd2428-d828-4a11-802f-1f3b96528c53"
      },
      "outputs": [
        {
          "name": "stdout",
          "output_type": "stream",
          "text": [
            "Warning: Looks like you're using an outdated API Version, please consider updating (server 1.5.12 / client 1.5.4)\n",
            "100% 9.17M/9.17M [00:00<00:00, 26.3MB/s]\n",
            "Successfully submitted to Tabular Playground Series - Nov 2021"
          ]
        }
      ],
      "source": [
        "! kaggle competitions submit -c tabular-playground-series-nov-2021 -f submission.csv -m \"Aiming for 75.350\""
      ]
    }
  ],
  "metadata": {
    "colab": {
      "authorship_tag": "ABX9TyMvMf3nPDnJlR5tF7slZE1j",
      "name": "Tabular Playground.ipynb",
      "provenance": []
    },
    "kernelspec": {
      "display_name": "Python 3.10.5 ('kaggle-competitions')",
      "language": "python",
      "name": "python3"
    },
    "language_info": {
      "name": "python",
      "version": "3.10.5"
    },
    "vscode": {
      "interpreter": {
        "hash": "bb97d5dd6b14f2153760d0a1abf243f08015a708c0400e93fc0bab8facbb240c"
      }
    }
  },
  "nbformat": 4,
  "nbformat_minor": 0
}
