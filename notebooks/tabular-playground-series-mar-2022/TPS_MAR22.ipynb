{
  "cells": [
    {
      "cell_type": "markdown",
      "metadata": {
        "id": "1Yp8xOhuImRy"
      },
      "source": [
        "# Kaggle Tabular Playground Series - Mar 2022\n",
        "Forecasting 12 hours of traffic flow of roadways given basic spacio-temporal information such as time, coordinates and roadway direction.\n",
        "\n",
        "\n"
      ]
    },
    {
      "cell_type": "code",
      "execution_count": 1,
      "metadata": {
        "id": "h-2Ap0YupgIp"
      },
      "outputs": [],
      "source": [
        "import pandas as pd\n",
        "import matplotlib.pyplot as plt\n",
        "import seaborn as sns\n",
        "from sklearn.metrics import mean_absolute_error\n",
        "from IPython.core.interactiveshell import InteractiveShell\n",
        "\n",
        "InteractiveShell.ast_node_interactivity = \"all\"\n"
      ]
    },
    {
      "cell_type": "code",
      "execution_count": 55,
      "metadata": {
        "id": "hvk2jgTjqBRR"
      },
      "outputs": [],
      "source": [
        "def raw_to_df(csv_path):\n",
        "    return pd.read_csv(f\"data/{csv_path}\", index_col=0)\n",
        "\n",
        "\n",
        "# convert csv files to dataframes\n",
        "submission = raw_to_df(\"sample_submission.csv\")\n",
        "test = raw_to_df(\"test.csv\")\n",
        "train = raw_to_df(\"train.csv\")\n",
        "congestion = train[\"congestion\"]\n",
        "\n",
        "# convert values to pd.datetime objects\n",
        "train[\"time\"] = pd.to_datetime(train[\"time\"])\n",
        "test[\"time\"] = pd.to_datetime(test[\"time\"])\n"
      ]
    },
    {
      "cell_type": "code",
      "execution_count": 5,
      "metadata": {
        "colab": {
          "base_uri": "https://localhost:8080/",
          "height": 237
        },
        "id": "WcNdj1woYWxs",
        "outputId": "0dbc8275-80fc-4cc6-fd40-55403305ee73"
      },
      "outputs": [
        {
          "data": {
            "text/html": [
              "\n",
              "  <div id=\"df-41728d7c-8c7f-46f3-964e-27d146487c21\">\n",
              "    <div class=\"colab-df-container\">\n",
              "      <div>\n",
              "<style scoped>\n",
              "    .dataframe tbody tr th:only-of-type {\n",
              "        vertical-align: middle;\n",
              "    }\n",
              "\n",
              "    .dataframe tbody tr th {\n",
              "        vertical-align: top;\n",
              "    }\n",
              "\n",
              "    .dataframe thead th {\n",
              "        text-align: right;\n",
              "    }\n",
              "</style>\n",
              "<table border=\"1\" class=\"dataframe\">\n",
              "  <thead>\n",
              "    <tr style=\"text-align: right;\">\n",
              "      <th></th>\n",
              "      <th>time</th>\n",
              "      <th>x</th>\n",
              "      <th>y</th>\n",
              "      <th>direction</th>\n",
              "    </tr>\n",
              "    <tr>\n",
              "      <th>row_id</th>\n",
              "      <th></th>\n",
              "      <th></th>\n",
              "      <th></th>\n",
              "      <th></th>\n",
              "    </tr>\n",
              "  </thead>\n",
              "  <tbody>\n",
              "    <tr>\n",
              "      <th>848835</th>\n",
              "      <td>1991-09-30 12:00:00</td>\n",
              "      <td>0</td>\n",
              "      <td>0</td>\n",
              "      <td>EB</td>\n",
              "    </tr>\n",
              "    <tr>\n",
              "      <th>848836</th>\n",
              "      <td>1991-09-30 12:00:00</td>\n",
              "      <td>0</td>\n",
              "      <td>0</td>\n",
              "      <td>NB</td>\n",
              "    </tr>\n",
              "    <tr>\n",
              "      <th>848837</th>\n",
              "      <td>1991-09-30 12:00:00</td>\n",
              "      <td>0</td>\n",
              "      <td>0</td>\n",
              "      <td>SB</td>\n",
              "    </tr>\n",
              "    <tr>\n",
              "      <th>848838</th>\n",
              "      <td>1991-09-30 12:00:00</td>\n",
              "      <td>0</td>\n",
              "      <td>1</td>\n",
              "      <td>EB</td>\n",
              "    </tr>\n",
              "    <tr>\n",
              "      <th>848839</th>\n",
              "      <td>1991-09-30 12:00:00</td>\n",
              "      <td>0</td>\n",
              "      <td>1</td>\n",
              "      <td>NB</td>\n",
              "    </tr>\n",
              "  </tbody>\n",
              "</table>\n",
              "</div>\n",
              "      <button class=\"colab-df-convert\" onclick=\"convertToInteractive('df-41728d7c-8c7f-46f3-964e-27d146487c21')\"\n",
              "              title=\"Convert this dataframe to an interactive table.\"\n",
              "              style=\"display:none;\">\n",
              "        \n",
              "  <svg xmlns=\"http://www.w3.org/2000/svg\" height=\"24px\"viewBox=\"0 0 24 24\"\n",
              "       width=\"24px\">\n",
              "    <path d=\"M0 0h24v24H0V0z\" fill=\"none\"/>\n",
              "    <path d=\"M18.56 5.44l.94 2.06.94-2.06 2.06-.94-2.06-.94-.94-2.06-.94 2.06-2.06.94zm-11 1L8.5 8.5l.94-2.06 2.06-.94-2.06-.94L8.5 2.5l-.94 2.06-2.06.94zm10 10l.94 2.06.94-2.06 2.06-.94-2.06-.94-.94-2.06-.94 2.06-2.06.94z\"/><path d=\"M17.41 7.96l-1.37-1.37c-.4-.4-.92-.59-1.43-.59-.52 0-1.04.2-1.43.59L10.3 9.45l-7.72 7.72c-.78.78-.78 2.05 0 2.83L4 21.41c.39.39.9.59 1.41.59.51 0 1.02-.2 1.41-.59l7.78-7.78 2.81-2.81c.8-.78.8-2.07 0-2.86zM5.41 20L4 18.59l7.72-7.72 1.47 1.35L5.41 20z\"/>\n",
              "  </svg>\n",
              "      </button>\n",
              "      \n",
              "  <style>\n",
              "    .colab-df-container {\n",
              "      display:flex;\n",
              "      flex-wrap:wrap;\n",
              "      gap: 12px;\n",
              "    }\n",
              "\n",
              "    .colab-df-convert {\n",
              "      background-color: #E8F0FE;\n",
              "      border: none;\n",
              "      border-radius: 50%;\n",
              "      cursor: pointer;\n",
              "      display: none;\n",
              "      fill: #1967D2;\n",
              "      height: 32px;\n",
              "      padding: 0 0 0 0;\n",
              "      width: 32px;\n",
              "    }\n",
              "\n",
              "    .colab-df-convert:hover {\n",
              "      background-color: #E2EBFA;\n",
              "      box-shadow: 0px 1px 2px rgba(60, 64, 67, 0.3), 0px 1px 3px 1px rgba(60, 64, 67, 0.15);\n",
              "      fill: #174EA6;\n",
              "    }\n",
              "\n",
              "    [theme=dark] .colab-df-convert {\n",
              "      background-color: #3B4455;\n",
              "      fill: #D2E3FC;\n",
              "    }\n",
              "\n",
              "    [theme=dark] .colab-df-convert:hover {\n",
              "      background-color: #434B5C;\n",
              "      box-shadow: 0px 1px 3px 1px rgba(0, 0, 0, 0.15);\n",
              "      filter: drop-shadow(0px 1px 2px rgba(0, 0, 0, 0.3));\n",
              "      fill: #FFFFFF;\n",
              "    }\n",
              "  </style>\n",
              "\n",
              "      <script>\n",
              "        const buttonEl =\n",
              "          document.querySelector('#df-41728d7c-8c7f-46f3-964e-27d146487c21 button.colab-df-convert');\n",
              "        buttonEl.style.display =\n",
              "          google.colab.kernel.accessAllowed ? 'block' : 'none';\n",
              "\n",
              "        async function convertToInteractive(key) {\n",
              "          const element = document.querySelector('#df-41728d7c-8c7f-46f3-964e-27d146487c21');\n",
              "          const dataTable =\n",
              "            await google.colab.kernel.invokeFunction('convertToInteractive',\n",
              "                                                     [key], {});\n",
              "          if (!dataTable) return;\n",
              "\n",
              "          const docLinkHtml = 'Like what you see? Visit the ' +\n",
              "            '<a target=\"_blank\" href=https://colab.research.google.com/notebooks/data_table.ipynb>data table notebook</a>'\n",
              "            + ' to learn more about interactive tables.';\n",
              "          element.innerHTML = '';\n",
              "          dataTable['output_type'] = 'display_data';\n",
              "          await google.colab.output.renderOutput(dataTable, element);\n",
              "          const docLink = document.createElement('div');\n",
              "          docLink.innerHTML = docLinkHtml;\n",
              "          element.appendChild(docLink);\n",
              "        }\n",
              "      </script>\n",
              "    </div>\n",
              "  </div>\n",
              "  "
            ],
            "text/plain": [
              "                      time  x  y direction\n",
              "row_id                                    \n",
              "848835 1991-09-30 12:00:00  0  0        EB\n",
              "848836 1991-09-30 12:00:00  0  0        NB\n",
              "848837 1991-09-30 12:00:00  0  0        SB\n",
              "848838 1991-09-30 12:00:00  0  1        EB\n",
              "848839 1991-09-30 12:00:00  0  1        NB"
            ]
          },
          "execution_count": 5,
          "metadata": {},
          "output_type": "execute_result"
        }
      ],
      "source": [
        "test.head()\n"
      ]
    },
    {
      "cell_type": "markdown",
      "metadata": {
        "id": "BHoldleQYXn8"
      },
      "source": [
        "## Train dataset exploration"
      ]
    },
    {
      "cell_type": "markdown",
      "metadata": {
        "id": "ZxYNNM96X9vu"
      },
      "source": [
        "Train time series ranges from April to September, 65 observations for each day."
      ]
    },
    {
      "cell_type": "code",
      "execution_count": 6,
      "metadata": {
        "colab": {
          "base_uri": "https://localhost:8080/"
        },
        "id": "fgWcjIVbGsmV",
        "outputId": "9db837e5-fa1b-41b7-e228-102741cc70d8"
      },
      "outputs": [
        {
          "data": {
            "text/plain": [
              "848835"
            ]
          },
          "execution_count": 6,
          "metadata": {},
          "output_type": "execute_result"
        }
      ],
      "source": [
        "num_rows = len(train)\n",
        "num_rows\n"
      ]
    },
    {
      "cell_type": "code",
      "execution_count": 7,
      "metadata": {
        "colab": {
          "base_uri": "https://localhost:8080/",
          "height": 237
        },
        "id": "mS0MAkompYp0",
        "outputId": "19b17936-e75f-4980-e8c7-3613e89274f1"
      },
      "outputs": [
        {
          "data": {
            "text/html": [
              "\n",
              "  <div id=\"df-4b8a3997-1df1-432d-84c1-23cfdbf58ecd\">\n",
              "    <div class=\"colab-df-container\">\n",
              "      <div>\n",
              "<style scoped>\n",
              "    .dataframe tbody tr th:only-of-type {\n",
              "        vertical-align: middle;\n",
              "    }\n",
              "\n",
              "    .dataframe tbody tr th {\n",
              "        vertical-align: top;\n",
              "    }\n",
              "\n",
              "    .dataframe thead th {\n",
              "        text-align: right;\n",
              "    }\n",
              "</style>\n",
              "<table border=\"1\" class=\"dataframe\">\n",
              "  <thead>\n",
              "    <tr style=\"text-align: right;\">\n",
              "      <th></th>\n",
              "      <th>time</th>\n",
              "      <th>x</th>\n",
              "      <th>y</th>\n",
              "      <th>direction</th>\n",
              "      <th>congestion</th>\n",
              "    </tr>\n",
              "    <tr>\n",
              "      <th>row_id</th>\n",
              "      <th></th>\n",
              "      <th></th>\n",
              "      <th></th>\n",
              "      <th></th>\n",
              "      <th></th>\n",
              "    </tr>\n",
              "  </thead>\n",
              "  <tbody>\n",
              "    <tr>\n",
              "      <th>0</th>\n",
              "      <td>1991-04-01</td>\n",
              "      <td>0</td>\n",
              "      <td>0</td>\n",
              "      <td>EB</td>\n",
              "      <td>70</td>\n",
              "    </tr>\n",
              "    <tr>\n",
              "      <th>1</th>\n",
              "      <td>1991-04-01</td>\n",
              "      <td>0</td>\n",
              "      <td>0</td>\n",
              "      <td>NB</td>\n",
              "      <td>49</td>\n",
              "    </tr>\n",
              "    <tr>\n",
              "      <th>2</th>\n",
              "      <td>1991-04-01</td>\n",
              "      <td>0</td>\n",
              "      <td>0</td>\n",
              "      <td>SB</td>\n",
              "      <td>24</td>\n",
              "    </tr>\n",
              "    <tr>\n",
              "      <th>3</th>\n",
              "      <td>1991-04-01</td>\n",
              "      <td>0</td>\n",
              "      <td>1</td>\n",
              "      <td>EB</td>\n",
              "      <td>18</td>\n",
              "    </tr>\n",
              "    <tr>\n",
              "      <th>4</th>\n",
              "      <td>1991-04-01</td>\n",
              "      <td>0</td>\n",
              "      <td>1</td>\n",
              "      <td>NB</td>\n",
              "      <td>60</td>\n",
              "    </tr>\n",
              "  </tbody>\n",
              "</table>\n",
              "</div>\n",
              "      <button class=\"colab-df-convert\" onclick=\"convertToInteractive('df-4b8a3997-1df1-432d-84c1-23cfdbf58ecd')\"\n",
              "              title=\"Convert this dataframe to an interactive table.\"\n",
              "              style=\"display:none;\">\n",
              "        \n",
              "  <svg xmlns=\"http://www.w3.org/2000/svg\" height=\"24px\"viewBox=\"0 0 24 24\"\n",
              "       width=\"24px\">\n",
              "    <path d=\"M0 0h24v24H0V0z\" fill=\"none\"/>\n",
              "    <path d=\"M18.56 5.44l.94 2.06.94-2.06 2.06-.94-2.06-.94-.94-2.06-.94 2.06-2.06.94zm-11 1L8.5 8.5l.94-2.06 2.06-.94-2.06-.94L8.5 2.5l-.94 2.06-2.06.94zm10 10l.94 2.06.94-2.06 2.06-.94-2.06-.94-.94-2.06-.94 2.06-2.06.94z\"/><path d=\"M17.41 7.96l-1.37-1.37c-.4-.4-.92-.59-1.43-.59-.52 0-1.04.2-1.43.59L10.3 9.45l-7.72 7.72c-.78.78-.78 2.05 0 2.83L4 21.41c.39.39.9.59 1.41.59.51 0 1.02-.2 1.41-.59l7.78-7.78 2.81-2.81c.8-.78.8-2.07 0-2.86zM5.41 20L4 18.59l7.72-7.72 1.47 1.35L5.41 20z\"/>\n",
              "  </svg>\n",
              "      </button>\n",
              "      \n",
              "  <style>\n",
              "    .colab-df-container {\n",
              "      display:flex;\n",
              "      flex-wrap:wrap;\n",
              "      gap: 12px;\n",
              "    }\n",
              "\n",
              "    .colab-df-convert {\n",
              "      background-color: #E8F0FE;\n",
              "      border: none;\n",
              "      border-radius: 50%;\n",
              "      cursor: pointer;\n",
              "      display: none;\n",
              "      fill: #1967D2;\n",
              "      height: 32px;\n",
              "      padding: 0 0 0 0;\n",
              "      width: 32px;\n",
              "    }\n",
              "\n",
              "    .colab-df-convert:hover {\n",
              "      background-color: #E2EBFA;\n",
              "      box-shadow: 0px 1px 2px rgba(60, 64, 67, 0.3), 0px 1px 3px 1px rgba(60, 64, 67, 0.15);\n",
              "      fill: #174EA6;\n",
              "    }\n",
              "\n",
              "    [theme=dark] .colab-df-convert {\n",
              "      background-color: #3B4455;\n",
              "      fill: #D2E3FC;\n",
              "    }\n",
              "\n",
              "    [theme=dark] .colab-df-convert:hover {\n",
              "      background-color: #434B5C;\n",
              "      box-shadow: 0px 1px 3px 1px rgba(0, 0, 0, 0.15);\n",
              "      filter: drop-shadow(0px 1px 2px rgba(0, 0, 0, 0.3));\n",
              "      fill: #FFFFFF;\n",
              "    }\n",
              "  </style>\n",
              "\n",
              "      <script>\n",
              "        const buttonEl =\n",
              "          document.querySelector('#df-4b8a3997-1df1-432d-84c1-23cfdbf58ecd button.colab-df-convert');\n",
              "        buttonEl.style.display =\n",
              "          google.colab.kernel.accessAllowed ? 'block' : 'none';\n",
              "\n",
              "        async function convertToInteractive(key) {\n",
              "          const element = document.querySelector('#df-4b8a3997-1df1-432d-84c1-23cfdbf58ecd');\n",
              "          const dataTable =\n",
              "            await google.colab.kernel.invokeFunction('convertToInteractive',\n",
              "                                                     [key], {});\n",
              "          if (!dataTable) return;\n",
              "\n",
              "          const docLinkHtml = 'Like what you see? Visit the ' +\n",
              "            '<a target=\"_blank\" href=https://colab.research.google.com/notebooks/data_table.ipynb>data table notebook</a>'\n",
              "            + ' to learn more about interactive tables.';\n",
              "          element.innerHTML = '';\n",
              "          dataTable['output_type'] = 'display_data';\n",
              "          await google.colab.output.renderOutput(dataTable, element);\n",
              "          const docLink = document.createElement('div');\n",
              "          docLink.innerHTML = docLinkHtml;\n",
              "          element.appendChild(docLink);\n",
              "        }\n",
              "      </script>\n",
              "    </div>\n",
              "  </div>\n",
              "  "
            ],
            "text/plain": [
              "             time  x  y direction  congestion\n",
              "row_id                                       \n",
              "0      1991-04-01  0  0        EB          70\n",
              "1      1991-04-01  0  0        NB          49\n",
              "2      1991-04-01  0  0        SB          24\n",
              "3      1991-04-01  0  1        EB          18\n",
              "4      1991-04-01  0  1        NB          60"
            ]
          },
          "execution_count": 7,
          "metadata": {},
          "output_type": "execute_result"
        }
      ],
      "source": [
        "# first 5 rows\n",
        "train.head()\n"
      ]
    },
    {
      "cell_type": "code",
      "execution_count": 8,
      "metadata": {
        "colab": {
          "base_uri": "https://localhost:8080/"
        },
        "id": "zIgr2gPuQkP_",
        "outputId": "8c24f8cb-9c86-402e-e035-c44d2ac6e20e"
      },
      "outputs": [
        {
          "name": "stdout",
          "output_type": "stream",
          "text": [
            "Col_name: time\n",
            "['1991-04-01T00:00:00.000000000' '1991-04-01T00:20:00.000000000'\n",
            " '1991-04-01T00:40:00.000000000' ... '1991-09-30T11:00:00.000000000'\n",
            " '1991-09-30T11:20:00.000000000' '1991-09-30T11:40:00.000000000'] \n",
            "\n",
            "Col_name: x\n",
            "[0 1 2] \n",
            "\n",
            "Col_name: y\n",
            "[0 1 2 3] \n",
            "\n",
            "Col_name: direction\n",
            "['EB' 'NB' 'SB' 'WB' 'NE' 'SW' 'NW' 'SE'] \n",
            "\n",
            "Col_name: congestion\n",
            "[ 70  49  24  18  60  58  26  31  46  29  16  21  47  51  74  43  44  52\n",
            "  32  77  39  63  53  28  54  41  37  15  61  65  22  34  45  42  50  36\n",
            "  64  30  55  57  40  33  17  48  71  69  10  67  80  91  35  56  59  38\n",
            "  78  27  79  20  83  62  25  19   7  82  75  76  85 100   2  88  12  89\n",
            "  73  11  81  72  13  84  23  92  14   6   8   9  66  68   5   0  95  87\n",
            "  90  97  86  96  94   4  93   3   1  98  99] \n",
            "\n"
          ]
        }
      ],
      "source": [
        "# values for each column\n",
        "for col in train.columns:\n",
        "    print(f\"Col_name: {col}\")\n",
        "    print(train[col].unique(), \"\\n\")\n"
      ]
    },
    {
      "cell_type": "code",
      "execution_count": 9,
      "metadata": {
        "colab": {
          "base_uri": "https://localhost:8080/",
          "height": 408
        },
        "id": "-cBTk7bMOjH7",
        "outputId": "005d1252-fcf2-4f71-a5d0-0db40494cb7e"
      },
      "outputs": [
        {
          "data": {
            "text/plain": [
              "<Figure size 1152x432 with 0 Axes>"
            ]
          },
          "execution_count": 9,
          "metadata": {},
          "output_type": "execute_result"
        },
        {
          "data": {
            "text/plain": [
              "<matplotlib.axes._subplots.AxesSubplot at 0x7f0f980c8450>"
            ]
          },
          "execution_count": 9,
          "metadata": {},
          "output_type": "execute_result"
        },
        {
          "data": {
            "image/png": "[encoded data removed]",
            "text/plain": [
              "<Figure size 1152x432 with 1 Axes>"
            ]
          },
          "metadata": {
            "needs_background": "light"
          },
          "output_type": "display_data"
        }
      ],
      "source": [
        "plt.figure(figsize=(16, 6))\n",
        "first_day = train.iloc[:65, :]\n",
        "sns.lineplot(data=first_day)\n"
      ]
    },
    {
      "cell_type": "code",
      "execution_count": 10,
      "metadata": {
        "colab": {
          "base_uri": "https://localhost:8080/"
        },
        "id": "O3FdXMN1wXUm",
        "outputId": "3f922e53-c367-44e8-ada7-91dcab50f197"
      },
      "outputs": [
        {
          "name": "stdout",
          "output_type": "stream",
          "text": [
            "Min_train_date: 1991-04-01 00:00:00\n",
            "Max_train_date: 1991-09-30 11:40:00\n",
            "Min_test_date 1991-09-30 12:00:00\n",
            "Max_test_date 1991-09-30 23:40:00\n"
          ]
        },
        {
          "data": {
            "text/plain": [
              "Timedelta('0 days 11:40:00')"
            ]
          },
          "execution_count": 10,
          "metadata": {},
          "output_type": "execute_result"
        }
      ],
      "source": [
        "print(\"Min_train_date:\", train.time.min())\n",
        "print(\"Max_train_date:\", train.time.max())\n",
        "print(\"Min_test_date\", test.time.min())\n",
        "print(\"Max_test_date\", test.time.max())\n",
        "test_time = test.time.max() - test.time.min()\n",
        "test_time\n"
      ]
    },
    {
      "cell_type": "markdown",
      "metadata": {
        "id": "Kv5FDTYWBY3x"
      },
      "source": [
        "## Feature engineering"
      ]
    },
    {
      "cell_type": "code",
      "execution_count": 56,
      "metadata": {
        "id": "KK1xFJ0tVwgf"
      },
      "outputs": [],
      "source": [
        "# last 11:40 hours from 1991-09-30\n",
        "val = train.loc[train.time >= \"1991-09-30 00:00:00\"]\n",
        "\n",
        "train = train.loc[train.time < \"1991-09-30 00:00:00\"]\n",
        "\n",
        "val_x = val.iloc[:, :-1]\n",
        "val_y = val.congestion\n"
      ]
    },
    {
      "cell_type": "markdown",
      "metadata": {
        "id": "WfxQDTIOxXIk"
      },
      "source": [
        "Test data corresponds to 20 minute intervals of 1991-09-30, ranging from 12:00 to 23:40."
      ]
    },
    {
      "cell_type": "code",
      "execution_count": 57,
      "metadata": {
        "id": "D_0-OAZE_jlZ"
      },
      "outputs": [],
      "source": [
        "for df in [train, test, val_x]:\n",
        "    df[\"day_of_week\"] = df[\"time\"].map(lambda x: x.dayofweek)\n",
        "    df[\"hour\"] = df[\"time\"].map(lambda x: x.hour)\n",
        "    df[\"minute\"] = df[\"time\"].map(lambda x: x.minute)\n"
      ]
    },
    {
      "cell_type": "markdown",
      "metadata": {
        "id": "4OVDSimZDMiq"
      },
      "source": [
        "## Predictions"
      ]
    },
    {
      "cell_type": "code",
      "execution_count": 44,
      "metadata": {
        "id": "E3zm6RxuaBMW"
      },
      "outputs": [],
      "source": [
        "pred = (\n",
        "    train.groupby([\"x\", \"y\", \"direction\", \"day_of_week\", \"hour\", \"minute\"])\n",
        "    .congestion.median()\n",
        "    .astype(int)\n",
        ")\n"
      ]
    },
    {
      "cell_type": "code",
      "execution_count": 37,
      "metadata": {
        "colab": {
          "base_uri": "https://localhost:8080/"
        },
        "id": "jGVyMM1oBLee",
        "outputId": "f5a5ec3f-4abe-4464-c8ed-e1361b9611be"
      },
      "outputs": [
        {
          "data": {
            "text/plain": [
              "x  y  direction  day_of_week  hour  minute\n",
              "0  0  EB         0            0     0         35\n",
              "                                    20        35\n",
              "                                    40        35\n",
              "                              1     0         35\n",
              "                                    20        35\n",
              "                                              ..\n",
              "2  3  WB         6            22    20        40\n",
              "                                    40        44\n",
              "                              23    0         41\n",
              "                                    20        38\n",
              "                                    40        39\n",
              "Name: congestion, Length: 32760, dtype: int64"
            ]
          },
          "execution_count": 37,
          "metadata": {},
          "output_type": "execute_result"
        }
      ],
      "source": [
        "pred\n"
      ]
    },
    {
      "cell_type": "code",
      "execution_count": 58,
      "metadata": {
        "colab": {
          "base_uri": "https://localhost:8080/"
        },
        "id": "bYTl-sDF5Vgy",
        "outputId": "c7c82973-57fd-42e3-bc33-a91f7b94cb72"
      },
      "outputs": [
        {
          "data": {
            "text/plain": [
              "6.641025641025641"
            ]
          },
          "execution_count": 58,
          "metadata": {},
          "output_type": "execute_result"
        }
      ],
      "source": [
        "def predict(row):\n",
        "    return pred.loc[row.x, row.y, row.direction, row.day_of_week, row.hour, row.minute]\n",
        "\n",
        "\n",
        "predictions = val_x.apply(predict, axis=\"columns\")\n",
        "\n",
        "MAE = mean_absolute_error(val_y, predictions)\n",
        "\n",
        "MAE\n"
      ]
    },
    {
      "cell_type": "markdown",
      "metadata": {
        "id": "y5SUbWipFF3B"
      },
      "source": [
        "## Submission"
      ]
    },
    {
      "cell_type": "code",
      "execution_count": 71,
      "metadata": {
        "colab": {
          "base_uri": "https://localhost:8080/"
        },
        "id": "suhZUeqdFEu8",
        "outputId": "91d93609-7595-475d-f9b1-b1d2c55436b2"
      },
      "outputs": [
        {
          "name": "stdout",
          "output_type": "stream",
          "text": [
            "100% 22.9k/22.9k [00:02<00:00, 9.71kB/s]\n",
            "Successfully submitted to Tabular Playground Series - Mar 2022"
          ]
        }
      ],
      "source": [
        "predictions = test.apply(predict, axis='columns')\n",
        "submission['congestion'] = predictions\n",
        "submission.to_csv('submission.csv')\n",
        "\n",
        "! kaggle competitions submit -c tabular-playground-series-mar-2022 -f submission.csv -m \"Medianas\""
      ]
    }
  ],
  "metadata": {
    "colab": {
      "collapsed_sections": [],
      "name": "TPS_MAR22.ipynb",
      "provenance": [],
      "toc_visible": true
    },
    "kernelspec": {
      "display_name": "Python 3.10.5 ('kaggle-competitions')",
      "language": "python",
      "name": "python3"
    },
    "language_info": {
      "name": "python",
      "version": "3.10.5"
    },
    "vscode": {
      "interpreter": {
        "hash": "bb97d5dd6b14f2153760d0a1abf243f08015a708c0400e93fc0bab8facbb240c"
      }
    }
  },
  "nbformat": 4,
  "nbformat_minor": 0
}
