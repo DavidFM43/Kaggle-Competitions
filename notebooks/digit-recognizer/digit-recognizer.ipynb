{
  "cells": [
    {
      "cell_type": "markdown",
      "metadata": {},
      "source": [
        "# Digit recognizer"
      ]
    },
    {
      "cell_type": "code",
      "execution_count": 1,
      "metadata": {
        "id": "TA2zfwFV0baO"
      },
      "outputs": [],
      "source": [
        "import pandas as pd\n",
        "from keras import models\n",
        "from keras import layers\n"
      ]
    },
    {
      "cell_type": "code",
      "execution_count": 4,
      "metadata": {
        "id": "IvP33d7h8ysJ"
      },
      "outputs": [],
      "source": [
        "train_ds = pd.read_csv(\"train.csv\")\n",
        "test_ds = pd.read_csv(\"test.csv\")\n"
      ]
    },
    {
      "cell_type": "code",
      "execution_count": 5,
      "metadata": {
        "id": "Rrn3fbk5-bl5"
      },
      "outputs": [],
      "source": [
        "train_labels = pd.get_dummies(train_ds.label).to_numpy().astype(\"float32\")\n",
        "train_images = train_ds.iloc[:, 1:].to_numpy().astype(\"float32\") / 255\n",
        "test_images = test_ds.to_numpy().astype(\"float32\") / 255\n"
      ]
    },
    {
      "cell_type": "code",
      "execution_count": 6,
      "metadata": {
        "id": "fU7s7RFO63az"
      },
      "outputs": [],
      "source": [
        "network = models.Sequential()\n",
        "network.add(layers.Dense(512, activation=\"relu\", input_shape=(28 * 28,)))\n",
        "network.add(layers.Dense(10, activation=\"softmax\"))\n",
        "\n",
        "network.compile(\n",
        "    optimizer=\"rmsprop\", loss=\"categorical_crossentropy\", metrics=[\"accuracy\"]\n",
        ")\n"
      ]
    },
    {
      "cell_type": "code",
      "execution_count": 7,
      "metadata": {
        "colab": {
          "base_uri": "https://localhost:8080/"
        },
        "id": "eGmyU69N7uh5",
        "outputId": "7a0e452b-1e6a-4623-b5b0-ac64be5f2817"
      },
      "outputs": [
        {
          "name": "stdout",
          "output_type": "stream",
          "text": [
            "Epoch 1/5\n",
            "329/329 [==============================] - 4s 11ms/step - loss: 0.3012 - accuracy: 0.9125\n",
            "Epoch 2/5\n",
            "329/329 [==============================] - 4s 11ms/step - loss: 0.1252 - accuracy: 0.9631\n",
            "Epoch 3/5\n",
            "329/329 [==============================] - 4s 11ms/step - loss: 0.0823 - accuracy: 0.9760\n",
            "Epoch 4/5\n",
            "329/329 [==============================] - 3s 11ms/step - loss: 0.0591 - accuracy: 0.9819\n",
            "Epoch 5/5\n",
            "329/329 [==============================] - 4s 11ms/step - loss: 0.0451 - accuracy: 0.9860\n"
          ]
        },
        {
          "data": {
            "text/plain": [
              "<keras.callbacks.History at 0x7f489a045d90>"
            ]
          },
          "execution_count": 7,
          "metadata": {},
          "output_type": "execute_result"
        }
      ],
      "source": [
        "network.fit(train_images, train_labels, epochs=5, batch_size=128)\n"
      ]
    },
    {
      "cell_type": "code",
      "execution_count": 8,
      "metadata": {
        "id": "EHYaVKJ6COSl"
      },
      "outputs": [],
      "source": [
        "predictions = network.predict(test_images)\n",
        "pred_series = pd.DataFrame(predictions).idxmax(axis=1)\n"
      ]
    },
    {
      "cell_type": "code",
      "execution_count": 10,
      "metadata": {
        "id": "PRhFlL97C5w8"
      },
      "outputs": [],
      "source": [
        "sample = pd.read_csv(\"sample_submission.csv\")\n",
        "out = pd.DataFrame({\"ImageId\": sample.ImageId, \"Label\": pred_series})\n",
        "out.to_csv(\"submission.csv\", index=False)\n"
      ]
    },
    {
      "cell_type": "code",
      "execution_count": 11,
      "metadata": {
        "colab": {
          "base_uri": "https://localhost:8080/"
        },
        "id": "hjV87voMBFBb",
        "outputId": "26eab747-677d-472a-988a-3e6ef812aac0"
      },
      "outputs": [
        {
          "name": "stdout",
          "output_type": "stream",
          "text": [
            "Warning: Looks like you're using an outdated API Version, please consider updating (server 1.5.12 / client 1.5.4)\n",
            "100% 208k/208k [00:00<00:00, 793kB/s]\n",
            "Successfully submitted to Digit Recognizer"
          ]
        }
      ],
      "source": [
        "! kaggle competitions submit -c digit-recognizer -f submission.csv -m \"MNIST\""
      ]
    }
  ],
  "metadata": {
    "colab": {
      "collapsed_sections": [],
      "name": "MNIST.ipynb",
      "provenance": []
    },
    "kernelspec": {
      "display_name": "Python 3.10.5 ('kaggle-competitions')",
      "language": "python",
      "name": "python3"
    },
    "language_info": {
      "name": "python",
      "version": "3.10.5"
    },
    "vscode": {
      "interpreter": {
        "hash": "bb97d5dd6b14f2153760d0a1abf243f08015a708c0400e93fc0bab8facbb240c"
      }
    }
  },
  "nbformat": 4,
  "nbformat_minor": 0
}
