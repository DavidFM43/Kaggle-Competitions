{
  "nbformat": 4,
  "nbformat_minor": 0,
  "metadata": {
    "colab": {
      "name": "MNIST.ipynb",
      "provenance": [],
      "collapsed_sections": []
    },
    "kernelspec": {
      "display_name": "Python 3",
      "name": "python3"
    },
    "language_info": {
      "name": "python"
    }
  },
  "cells": [
    {
      "cell_type": "code",
      "metadata": {
        "id": "TA2zfwFV0baO"
      },
      "source": [
        "import os\n",
        "import shutil\n",
        "import pandas as pd\n",
        "import numpy as np\n",
        "from tensorflow import keras\n",
        "\n",
        "\n",
        "os.environ['KAGGLE_USERNAME'] = \"davidfmora\"\n",
        "os.environ['KAGGLE_KEY'] = \"204c0028a80148851fdab46383061779\""
      ],
      "execution_count": 1,
      "outputs": []
    },
    {
      "cell_type": "code",
      "metadata": {
        "colab": {
          "base_uri": "https://localhost:8080/"
        },
        "id": "GQa6NHWt0ncu",
        "outputId": "aaa37f76-be5b-4f24-d07f-c4b45d670f52"
      },
      "source": [
        "!kaggle competitions download -c digit-recognizer # descarga de los datos\n"
      ],
      "execution_count": 2,
      "outputs": [
        {
          "output_type": "stream",
          "name": "stdout",
          "text": [
            "Warning: Looks like you're using an outdated API Version, please consider updating (server 1.5.12 / client 1.5.4)\n",
            "Downloading train.csv.zip to /content\n",
            " 98% 9.00M/9.16M [00:00<00:00, 67.7MB/s]\n",
            "100% 9.16M/9.16M [00:00<00:00, 58.4MB/s]\n",
            "Downloading sample_submission.csv to /content\n",
            "  0% 0.00/235k [00:00<?, ?B/s]\n",
            "100% 235k/235k [00:00<00:00, 75.5MB/s]\n",
            "Downloading test.csv.zip to /content\n",
            "  0% 0.00/6.09M [00:00<?, ?B/s]\n",
            "100% 6.09M/6.09M [00:00<00:00, 55.7MB/s]\n"
          ]
        }
      ]
    },
    {
      "cell_type": "code",
      "metadata": {
        "id": "wap2aKIK0GF8"
      },
      "source": [
        "!unzip -q train.csv.zip # descompresion de la carpeta\n",
        "!unzip -q test.csv.zip"
      ],
      "execution_count": 3,
      "outputs": []
    },
    {
      "cell_type": "code",
      "metadata": {
        "id": "IvP33d7h8ysJ"
      },
      "source": [
        "train_ds = pd.read_csv(\"train.csv\")\n",
        "test_ds = pd.read_csv(\"test.csv\")"
      ],
      "execution_count": 4,
      "outputs": []
    },
    {
      "cell_type": "code",
      "metadata": {
        "id": "Rrn3fbk5-bl5"
      },
      "source": [
        "train_labels = pd.get_dummies(train_ds.label).to_numpy().astype('float32')\n",
        "train_images = train_ds.iloc[:,1:].to_numpy().astype('float32')/255\n",
        "test_images = test_ds.to_numpy().astype('float32')/255"
      ],
      "execution_count": 5,
      "outputs": []
    },
    {
      "cell_type": "code",
      "metadata": {
        "id": "fU7s7RFO63az"
      },
      "source": [
        "from keras import models\n",
        "from keras import layers\n",
        "\n",
        "\n",
        "network = models.Sequential()\n",
        "network.add(layers.Dense(512, activation='relu', input_shape=(28 * 28,)))\n",
        "network.add(layers.Dense(10, activation='softmax'))\n",
        "\n",
        "network.compile(optimizer='rmsprop',\n",
        "                loss='categorical_crossentropy',\n",
        "                metrics=['accuracy'])"
      ],
      "execution_count": 6,
      "outputs": []
    },
    {
      "cell_type": "code",
      "metadata": {
        "id": "eGmyU69N7uh5",
        "colab": {
          "base_uri": "https://localhost:8080/"
        },
        "outputId": "7a0e452b-1e6a-4623-b5b0-ac64be5f2817"
      },
      "source": [
        "network.fit(train_images, train_labels, epochs=5, batch_size=128)"
      ],
      "execution_count": 7,
      "outputs": [
        {
          "output_type": "stream",
          "name": "stdout",
          "text": [
            "Epoch 1/5\n",
            "329/329 [==============================] - 4s 11ms/step - loss: 0.3012 - accuracy: 0.9125\n",
            "Epoch 2/5\n",
            "329/329 [==============================] - 4s 11ms/step - loss: 0.1252 - accuracy: 0.9631\n",
            "Epoch 3/5\n",
            "329/329 [==============================] - 4s 11ms/step - loss: 0.0823 - accuracy: 0.9760\n",
            "Epoch 4/5\n",
            "329/329 [==============================] - 3s 11ms/step - loss: 0.0591 - accuracy: 0.9819\n",
            "Epoch 5/5\n",
            "329/329 [==============================] - 4s 11ms/step - loss: 0.0451 - accuracy: 0.9860\n"
          ]
        },
        {
          "output_type": "execute_result",
          "data": {
            "text/plain": [
              "<keras.callbacks.History at 0x7f489a045d90>"
            ]
          },
          "metadata": {},
          "execution_count": 7
        }
      ]
    },
    {
      "cell_type": "code",
      "metadata": {
        "id": "EHYaVKJ6COSl"
      },
      "source": [
        "predictions = network.predict(test_images)\n",
        "pred_series = pd.DataFrame(predictions).idxmax(axis=1)"
      ],
      "execution_count": 8,
      "outputs": []
    },
    {
      "cell_type": "code",
      "metadata": {
        "id": "PRhFlL97C5w8"
      },
      "source": [
        "sample = pd.read_csv(\"sample_submission.csv\")\n",
        "out = pd.DataFrame({\"ImageId\": sample.ImageId, \"Label\": pred_series})\n",
        "out.to_csv(\"submission.csv\", index=False)"
      ],
      "execution_count": 10,
      "outputs": []
    },
    {
      "cell_type": "code",
      "metadata": {
        "id": "hjV87voMBFBb",
        "colab": {
          "base_uri": "https://localhost:8080/"
        },
        "outputId": "26eab747-677d-472a-988a-3e6ef812aac0"
      },
      "source": [
        "! kaggle competitions submit -c digit-recognizer -f submission.csv -m \"MNIST\""
      ],
      "execution_count": 11,
      "outputs": [
        {
          "output_type": "stream",
          "name": "stdout",
          "text": [
            "Warning: Looks like you're using an outdated API Version, please consider updating (server 1.5.12 / client 1.5.4)\n",
            "100% 208k/208k [00:00<00:00, 793kB/s]\n",
            "Successfully submitted to Digit Recognizer"
          ]
        }
      ]
    }
  ]
}