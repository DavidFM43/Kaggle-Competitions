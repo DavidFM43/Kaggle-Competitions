{
  "nbformat": 4,
  "nbformat_minor": 0,
  "metadata": {
    "colab": {
      "name": "Tabular Playground.ipynb",
      "provenance": [],
      "authorship_tag": "ABX9TyMDsSCiCnZmWSvEKwmq21Dx"
    },
    "kernelspec": {
      "name": "python3",
      "display_name": "Python 3"
    },
    "language_info": {
      "name": "python"
    }
  },
  "cells": [
    {
      "cell_type": "code",
      "metadata": {
        "id": "hbfEowkw_ok5"
      },
      "source": [
        "import tensorflow as tf\n",
        "import os\n",
        "import pandas as pd\n",
        "import numpy as np\n",
        "import matplotlib.pyplot as plt\n",
        "from sklearn.model_selection import train_test_split\n"
      ],
      "execution_count": 1,
      "outputs": []
    },
    {
      "cell_type": "code",
      "metadata": {
        "colab": {
          "base_uri": "https://localhost:8080/"
        },
        "id": "DOi7f1PTApqS",
        "outputId": "aa54c8d2-ffaf-4923-ad5a-aee8e952c74a"
      },
      "source": [
        "os.environ['KAGGLE_USERNAME'] = \"davidfmora\"\n",
        "os.environ['KAGGLE_KEY'] = \"204c0028a80148851fdab46383061779\"\n",
        "! kaggle competitions download -c tabular-playground-series-nov-2021"
      ],
      "execution_count": 2,
      "outputs": [
        {
          "output_type": "stream",
          "name": "stdout",
          "text": [
            "Warning: Looks like you're using an outdated API Version, please consider updating (server 1.5.12 / client 1.5.4)\n",
            "Downloading train.csv.zip to /content\n",
            " 94% 212M/225M [00:01<00:00, 129MB/s]\n",
            "100% 225M/225M [00:01<00:00, 136MB/s]\n",
            "Downloading test.csv.zip to /content\n",
            " 94% 189M/202M [00:01<00:00, 141MB/s]\n",
            "100% 202M/202M [00:01<00:00, 139MB/s]\n",
            "Downloading sample_submission.csv.zip to /content\n",
            "  0% 0.00/1.16M [00:00<?, ?B/s]\n",
            "100% 1.16M/1.16M [00:00<00:00, 38.5MB/s]\n"
          ]
        }
      ]
    },
    {
      "cell_type": "code",
      "metadata": {
        "id": "zyD6J_LkAtMr"
      },
      "source": [
        "! unzip sample_submission.csv.zip\n",
        "! unzip test.csv.zip\n",
        "! unzip train.csv.zip\n",
        "! rm sample_submission.csv.zip train.csv.zip test.csv.zip"
      ],
      "execution_count": null,
      "outputs": []
    },
    {
      "cell_type": "code",
      "metadata": {
        "id": "IqryLnYOBL9X"
      },
      "source": [
        "test_data = pd.read_csv(\"test.csv\", index_col=0)\n",
        "train_data = pd.read_csv(\"train.csv\", index_col= 0)"
      ],
      "execution_count": 4,
      "outputs": []
    },
    {
      "cell_type": "code",
      "metadata": {
        "id": "rF51kYPICLNp"
      },
      "source": [
        "train_samples = train_data.iloc[:,:-1]\n",
        "train_targets = train_data.iloc[:,-1]"
      ],
      "execution_count": 28,
      "outputs": []
    },
    {
      "cell_type": "code",
      "metadata": {
        "id": "hTuBkX1MCUan"
      },
      "source": [
        "from keras import models, layers\n",
        "#from tensorflow.keras.metrics import AUC\n",
        "model = models.Sequential([layers.Dense(32, activation='relu', input_shape=(100,)),\n",
        "                           layers.Dense(32, activation='relu'),\n",
        "                           layers.Dense(1, activation=\"sigmoid\")])\n",
        "\n",
        "model.compile(optimizer='rmsprop', loss='binary_crossentropy', metrics=[tf.keras.metrics.AUC()])\n"
      ],
      "execution_count": 91,
      "outputs": []
    },
    {
      "cell_type": "code",
      "metadata": {
        "colab": {
          "base_uri": "https://localhost:8080/"
        },
        "id": "ISWUNWroEuCw",
        "outputId": "a4e2f165-b550-4d5f-9246-d889e7f744ea"
      },
      "source": [
        "train_x, val_x, train_y, val_y = train_test_split(train_samples, train_targets, test_size=0.33)\n",
        "history = model.fit(train_x, train_y, epochs=37, batch_size=1000)\n",
        "model.evaluate(val_x, val_y)"
      ],
      "execution_count": 92,
      "outputs": [
        {
          "output_type": "stream",
          "name": "stdout",
          "text": [
            "Epoch 1/37\n",
            "402/402 [==============================] - 39s 4ms/step - loss: 1.1824 - auc_2: 0.5501\n",
            "Epoch 2/37\n",
            "402/402 [==============================] - 2s 4ms/step - loss: 0.9668 - auc_2: 0.6066\n",
            "Epoch 3/37\n",
            "402/402 [==============================] - 2s 4ms/step - loss: 0.8966 - auc_2: 0.6301\n",
            "Epoch 4/37\n",
            "402/402 [==============================] - 2s 4ms/step - loss: 0.8195 - auc_2: 0.6499\n",
            "Epoch 5/37\n",
            "402/402 [==============================] - 2s 4ms/step - loss: 0.7720 - auc_2: 0.6607\n",
            "Epoch 6/37\n",
            "402/402 [==============================] - 2s 4ms/step - loss: 0.7410 - auc_2: 0.6715\n",
            "Epoch 7/37\n",
            "402/402 [==============================] - 2s 4ms/step - loss: 0.6992 - auc_2: 0.6824\n",
            "Epoch 8/37\n",
            "402/402 [==============================] - 2s 4ms/step - loss: 0.6750 - auc_2: 0.6933\n",
            "Epoch 9/37\n",
            "402/402 [==============================] - 2s 4ms/step - loss: 0.6629 - auc_2: 0.7003\n",
            "Epoch 10/37\n",
            "402/402 [==============================] - 2s 4ms/step - loss: 0.6520 - auc_2: 0.7077\n",
            "Epoch 11/37\n",
            "402/402 [==============================] - 2s 4ms/step - loss: 0.6413 - auc_2: 0.7134\n",
            "Epoch 12/37\n",
            "402/402 [==============================] - 2s 4ms/step - loss: 0.6307 - auc_2: 0.7192\n",
            "Epoch 13/37\n",
            "402/402 [==============================] - 2s 4ms/step - loss: 0.6228 - auc_2: 0.7236\n",
            "Epoch 14/37\n",
            "402/402 [==============================] - 2s 4ms/step - loss: 0.6143 - auc_2: 0.7282\n",
            "Epoch 15/37\n",
            "402/402 [==============================] - 2s 4ms/step - loss: 0.6072 - auc_2: 0.7322\n",
            "Epoch 16/37\n",
            "402/402 [==============================] - 2s 4ms/step - loss: 0.6009 - auc_2: 0.7362\n",
            "Epoch 17/37\n",
            "402/402 [==============================] - 2s 4ms/step - loss: 0.5963 - auc_2: 0.7395\n",
            "Epoch 18/37\n",
            "402/402 [==============================] - 2s 4ms/step - loss: 0.5936 - auc_2: 0.7406\n",
            "Epoch 19/37\n",
            "402/402 [==============================] - 2s 4ms/step - loss: 0.5908 - auc_2: 0.7428\n",
            "Epoch 20/37\n",
            "402/402 [==============================] - 2s 4ms/step - loss: 0.5890 - auc_2: 0.7439\n",
            "Epoch 21/37\n",
            "402/402 [==============================] - 2s 4ms/step - loss: 0.5876 - auc_2: 0.7446\n",
            "Epoch 22/37\n",
            "402/402 [==============================] - 2s 5ms/step - loss: 0.5858 - auc_2: 0.7458\n",
            "Epoch 23/37\n",
            "402/402 [==============================] - 2s 4ms/step - loss: 0.5850 - auc_2: 0.7461\n",
            "Epoch 24/37\n",
            "402/402 [==============================] - 2s 4ms/step - loss: 0.5838 - auc_2: 0.7470\n",
            "Epoch 25/37\n",
            "402/402 [==============================] - 2s 5ms/step - loss: 0.5827 - auc_2: 0.7478\n",
            "Epoch 26/37\n",
            "402/402 [==============================] - 2s 4ms/step - loss: 0.5823 - auc_2: 0.7483\n",
            "Epoch 27/37\n",
            "402/402 [==============================] - 2s 4ms/step - loss: 0.5815 - auc_2: 0.7489\n",
            "Epoch 28/37\n",
            "402/402 [==============================] - 2s 4ms/step - loss: 0.5808 - auc_2: 0.7496\n",
            "Epoch 29/37\n",
            "402/402 [==============================] - 2s 4ms/step - loss: 0.5799 - auc_2: 0.7499\n",
            "Epoch 30/37\n",
            "402/402 [==============================] - 2s 4ms/step - loss: 0.5796 - auc_2: 0.7505\n",
            "Epoch 31/37\n",
            "402/402 [==============================] - 2s 4ms/step - loss: 0.5793 - auc_2: 0.7506\n",
            "Epoch 32/37\n",
            "402/402 [==============================] - 2s 4ms/step - loss: 0.5790 - auc_2: 0.7510\n",
            "Epoch 33/37\n",
            "402/402 [==============================] - 2s 4ms/step - loss: 0.5784 - auc_2: 0.7516\n",
            "Epoch 34/37\n",
            "402/402 [==============================] - 2s 4ms/step - loss: 0.5782 - auc_2: 0.7519\n",
            "Epoch 35/37\n",
            "402/402 [==============================] - 2s 4ms/step - loss: 0.5785 - auc_2: 0.7517\n",
            "Epoch 36/37\n",
            "402/402 [==============================] - 2s 4ms/step - loss: 0.5777 - auc_2: 0.7527\n",
            "Epoch 37/37\n",
            "402/402 [==============================] - 2s 4ms/step - loss: 0.5777 - auc_2: 0.7524\n",
            "6188/6188 [==============================] - 10s 2ms/step - loss: 0.5811 - auc_2: 0.7515\n"
          ]
        },
        {
          "output_type": "execute_result",
          "data": {
            "text/plain": [
              "[0.581065833568573, 0.7514868378639221]"
            ]
          },
          "metadata": {},
          "execution_count": 92
        }
      ]
    },
    {
      "cell_type": "code",
      "metadata": {
        "id": "dYIuetciFEYg"
      },
      "source": [
        "predictions = pd.DataFrame(model.predict(test_data))"
      ],
      "execution_count": 129,
      "outputs": []
    },
    {
      "cell_type": "code",
      "metadata": {
        "id": "vCpJj-MpQfXf"
      },
      "source": [
        "sample = pd.read_csv(\"sample_submission.csv\")\n",
        "out = pd.DataFrame({\"id\": sample.id, \"target\": predictions[0]})\n",
        "out.to_csv(\"submission.csv\", index=False)\n"
      ],
      "execution_count": 139,
      "outputs": []
    },
    {
      "cell_type": "code",
      "metadata": {
        "colab": {
          "base_uri": "https://localhost:8080/"
        },
        "id": "8se1LzEQQn-G",
        "outputId": "2851d814-572b-4e27-b0d1-1a44a3a0de0b"
      },
      "source": [
        "! kaggle competitions submit -c tabular-playground-series-nov-2021 -f submission.csv -m \"Tabular data playground\""
      ],
      "execution_count": 140,
      "outputs": [
        {
          "output_type": "stream",
          "name": "stdout",
          "text": [
            "Warning: Looks like you're using an outdated API Version, please consider updating (server 1.5.12 / client 1.5.4)\n",
            "100% 9.17M/9.17M [00:04<00:00, 2.08MB/s]\n",
            "Successfully submitted to Tabular Playground Series - Nov 2021"
          ]
        }
      ]
    }
  ]
}